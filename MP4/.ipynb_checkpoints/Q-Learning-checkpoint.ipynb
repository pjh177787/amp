{
 "cells": [
  {
   "cell_type": "markdown",
   "metadata": {},
   "source": [
    "# Assignment 4: Reinforcement Learning and Deep Learning\n",
    "## Part 1: Q-Learning\n",
    "### Part 1.1: Single-Player Pong"
   ]
  },
  {
   "cell_type": "code",
   "execution_count": 1,
   "metadata": {},
   "outputs": [],
   "source": [
    "%load_ext autoreload"
   ]
  },
  {
   "cell_type": "code",
   "execution_count": 9,
   "metadata": {},
   "outputs": [
    {
     "name": "stdout",
     "output_type": "stream",
     "text": [
      "hah\n",
      "average bounces per round 0.0\n"
     ]
    },
    {
     "ename": "NameError",
     "evalue": "name 'store_training_result' is not defined",
     "output_type": "error",
     "traceback": [
      "\u001b[1;31m---------------------------------------------------------------------------\u001b[0m",
      "\u001b[1;31mNameError\u001b[0m                                 Traceback (most recent call last)",
      "\u001b[1;32m<ipython-input-9-dd0a82f6ec72>\u001b[0m in \u001b[0;36m<module>\u001b[1;34m()\u001b[0m\n\u001b[0;32m     45\u001b[0m         \u001b[0mtotal\u001b[0m \u001b[1;33m+=\u001b[0m \u001b[0mpong\u001b[0m\u001b[1;33m.\u001b[0m\u001b[0mstate\u001b[0m\u001b[1;33m.\u001b[0m\u001b[0mbounce_count\u001b[0m\u001b[1;33m\u001b[0m\u001b[0m\n\u001b[0;32m     46\u001b[0m     \u001b[0mprint\u001b[0m\u001b[1;33m(\u001b[0m\u001b[1;34m'average bounces per round'\u001b[0m\u001b[1;33m,\u001b[0m \u001b[0mtotal\u001b[0m\u001b[1;33m/\u001b[0m\u001b[1;36m1000\u001b[0m\u001b[1;33m)\u001b[0m\u001b[1;33m\u001b[0m\u001b[0m\n\u001b[1;32m---> 47\u001b[1;33m     \u001b[0mstore_training_result\u001b[0m\u001b[1;33m(\u001b[0m\u001b[1;34m'./training_result/'\u001b[0m\u001b[1;33m,\u001b[0m \u001b[1;34m'training_objects.json'\u001b[0m\u001b[1;33m,\u001b[0m \u001b[0mc\u001b[0m\u001b[1;33m,\u001b[0m \u001b[0mgamma\u001b[0m\u001b[1;33m,\u001b[0m \u001b[0mne\u001b[0m\u001b[1;33m,\u001b[0m \u001b[0mtotal\u001b[0m\u001b[1;33m/\u001b[0m\u001b[1;36m1000\u001b[0m\u001b[1;33m)\u001b[0m\u001b[1;33m\u001b[0m\u001b[0m\n\u001b[0m\u001b[0;32m     48\u001b[0m     \u001b[0mexit\u001b[0m\u001b[1;33m(\u001b[0m\u001b[1;36m0\u001b[0m\u001b[1;33m)\u001b[0m\u001b[1;33m\u001b[0m\u001b[0m\n\u001b[0;32m     49\u001b[0m \u001b[1;33m\u001b[0m\u001b[0m\n",
      "\u001b[1;31mNameError\u001b[0m: name 'store_training_result' is not defined"
     ]
    }
   ],
   "source": [
    "%autoreload 2\n",
    "from Pong import *\n",
    "from Automation import *\n",
    "\n",
    "print('hah')\n",
    "\n",
    "c = 10\n",
    "gamma = 0.9\n",
    "ne = 150\n",
    "is_train = 0\n",
    "\n",
    "name = '_'.join(['c'+str(c), 'gamma'+str(gamma), 'ne'+str(ne)])\n",
    "\n",
    "#        def __init__(self, boardSize, alpha, gamma, ne):\n",
    "myagent = Pong.Agent((12, 12), lambda x: c / (c + x), gamma, ne)\n",
    "pong = Pong(0.5, 0.5, 0.03, 0.01, 0.5 - Pong.PADDLE_HEIGHT / 2, (12, 12))\n",
    "\n",
    "directory = './training_result/'\n",
    "training_count_file = 'training_' + name + '_count.txt'\n",
    "training_file = 'training_' + name + '_file.txt'\n",
    "\n",
    "training_count = 0\n",
    "\n",
    "if find(directory, training_file):\n",
    "    with open(directory + training_file, 'r') as f:\n",
    "        training = f.read()\n",
    "        myagent.action_utility = parse_utility(decode(training))\n",
    "    if find(directory, training_count_file):\n",
    "        with open(directory + training_count_file, 'r') as f:\n",
    "            training_count = int(f.read())\n",
    "else:\n",
    "    if is_train == 0:\n",
    "        print(\"not input file:\", directory + training_file)\n",
    "        exit(0)\n",
    "\n",
    "\n",
    "# testing trained result\n",
    "if is_train == 0:\n",
    "    myagent.set_explore(False)\n",
    "    total = 0\n",
    "    for i in range(1000):\n",
    "        pong.restart(0.5, 0.5, 0.03, 0.01, 0.5 - Pong.PADDLE_HEIGHT / 2)\n",
    "        pong.game(myagent)\n",
    "        total += pong.state.bounce_count\n",
    "    print('average bounces per round', total/1000)\n",
    "    store_training_result('./training_result/', 'training_objects.json', c, gamma, ne, total/1000)\n",
    "    exit(0)\n",
    "\n",
    "# benchmark\n",
    "now = datetime.now()\n",
    "\n",
    "for i in range(100000):\n",
    "    if i % 1000 == 0:\n",
    "        print(i, 'times ', (datetime.now() - now).seconds, 'seconds ggwp')\n",
    "\n",
    "    pong.restart(0.5, 0.5, 0.03, 0.01, 0.5 - Pong.PADDLE_HEIGHT / 2)\n",
    "    pong.game(myagent)\n",
    "    training_count += 1\n",
    "\n",
    "time_spent = (datetime.now() - now).seconds\n",
    "\n",
    "# store training results\n",
    "training_result = encode(myagent.action_utility)\n",
    "with open(directory + training_file, 'w') as f:\n",
    "    f.write(training_result)\n",
    "\n",
    "with open(directory + training_count_file, 'w') as f:\n",
    "    f.write(str(training_count))\n",
    "print(\"stop training\")\n",
    "print('time spent: ', time_spent)"
   ]
  },
  {
   "cell_type": "code",
   "execution_count": null,
   "metadata": {
    "collapsed": true
   },
   "outputs": [],
   "source": []
  }
 ],
 "metadata": {
  "kernelspec": {
   "display_name": "Python 3",
   "language": "python",
   "name": "python3"
  },
  "language_info": {
   "codemirror_mode": {
    "name": "ipython",
    "version": 3
   },
   "file_extension": ".py",
   "mimetype": "text/x-python",
   "name": "python",
   "nbconvert_exporter": "python",
   "pygments_lexer": "ipython3",
   "version": "3.6.3"
  }
 },
 "nbformat": 4,
 "nbformat_minor": 2
}
