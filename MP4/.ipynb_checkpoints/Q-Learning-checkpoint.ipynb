{
 "cells": [
  {
   "cell_type": "markdown",
   "metadata": {},
   "source": [
    "# Assignment 4: Reinforcement Learning and Deep Learning\n",
    "## Part 1: Q-Learning\n",
    "### Part 1.1: Single-Player Pong"
   ]
  },
  {
   "cell_type": "code",
   "execution_count": 1,
   "metadata": {
    "collapsed": true
   },
   "outputs": [],
   "source": [
    "%load_ext autoreload"
   ]
  },
  {
   "cell_type": "code",
   "execution_count": 18,
   "metadata": {},
   "outputs": [],
   "source": [
    "%autoreload 2\n",
    "from Pong import *\n",
    "from Automation import *\n",
    "from matplotlib import pyplot as plt\n",
    "\n",
    "def get_shit_done(c, gamma, ne, is_train):\n",
    "    name = '_'.join(['c'+str(c), 'gamma'+str(gamma), 'ne'+str(ne)])\n",
    "\n",
    "    #        def __init__(self, boardSize, alpha, gamma, ne):\n",
    "    myagent = Pong.Agent((12, 12), lambda x: c / (c + x), gamma, ne)\n",
    "    pong = Pong(0.5, 0.5, 0.03, 0.01, 0.5 - Pong.PADDLE_HEIGHT / 2, (12, 12))\n",
    "\n",
    "    directory = './training_result/'\n",
    "    training_count_file = 'training_' + name + '_count.txt'\n",
    "    training_file = 'training_' + name + '_file.txt'\n",
    "\n",
    "    training_count = 0\n",
    "\n",
    "    if find(directory, training_file):\n",
    "        with open(directory + training_file, 'r') as f:\n",
    "            training = f.read()\n",
    "            myagent.action_utility = parse_utility(decode(training))\n",
    "        if find(directory, training_count_file):\n",
    "            with open(directory + training_count_file, 'r') as f:\n",
    "                training_count = int(f.read())\n",
    "    else:\n",
    "        if is_train == 0:\n",
    "            print(\"not input file:\", directory + training_file)\n",
    "\n",
    "    # benchmark\n",
    "    now = datetime.now()\n",
    "\n",
    "    # testing trained result\n",
    "    \n",
    "    for i in range(100000):\n",
    "        if i % 1000 == 0:\n",
    "            print(i, 'times ', (datetime.now() - now).seconds, 'seconds')\n",
    "        pong.restart(0.5, 0.5, 0.03, 0.01, 0.5 - Pong.PADDLE_HEIGHT / 2)\n",
    "        pong.game(myagent)\n",
    "        training_count += 1\n",
    "        \n",
    "    if is_train == 0:\n",
    "        myagent.set_explore(False)\n",
    "        total = 0\n",
    "        for i in range(1000):\n",
    "            pong.restart(0.5, 0.5, 0.03, 0.01, 0.5 - Pong.PADDLE_HEIGHT / 2)\n",
    "            pong.game(myagent)\n",
    "            total += pong.state.bounce_count\n",
    "        print('average bounces per round', total/1000)\n",
    "        store_training_result('./training_result/', 'training_objects.json', c, gamma, ne, total/1000)\n",
    "\n",
    "    # mean_episode_rewards = []\n",
    "    # for k in range(5, 200, 10):\n",
    "    #     new_agent = Pong.Agent((12, 12), lambda x: c / (c + x), gamma, ne)\n",
    "    #     total = 0\n",
    "    #     for i in range(k*1000):\n",
    "    # #         if i % 1000 == 0:\n",
    "    # #             print(i, 'times ', (datetime.now() - now).seconds, 'seconds')\n",
    "    #         pong.restart(0.5, 0.5, 0.03, 0.01, 0.5 - Pong.PADDLE_HEIGHT / 2)\n",
    "    #         pong.game(new_agent)\n",
    "    #         total += pong.state.bounce_count\n",
    "    #     print(k, total/k/1000)\n",
    "    #     mean_episode_rewards.append(total/k/1000)\n",
    "\n",
    "    # plt.figure()\n",
    "    # plt.plot(mean_episode_rewards)\n",
    "    # plt.show()\n",
    "\n",
    "    time_spent = (datetime.now() - now).seconds\n",
    "    # print(myagent.action_utility)\n",
    "\n",
    "\n",
    "    # store training results\n",
    "    training_result = encode(myagent.action_utility)\n",
    "    with open(directory + training_file, 'w') as f:\n",
    "        f.write(training_result)\n",
    "\n",
    "    with open(directory + training_count_file, 'w') as f:\n",
    "        f.write(str(training_count))\n",
    "    print(\"stop training\")\n",
    "    print('time spent: ', time_spent)"
   ]
  },
  {
   "cell_type": "code",
   "execution_count": null,
   "metadata": {
    "collapsed": true
   },
   "outputs": [],
   "source": [
    "c_0 = 10\n",
    "gamma_0 = 0.9\n",
    "ne_0 = 150\n",
    "is_train = 0\n",
    "\n",
    "for c in range(4, 17, 2):\n",
    "    for gamma in range(0.5, 1.5, 0.1):\n",
    "        for ne in range(50, 251, 50):\n",
    "            get_shit_done(c, gamma, ne, 0)"
   ]
  }
 ],
 "metadata": {
  "kernelspec": {
   "display_name": "Python 3",
   "language": "python",
   "name": "python3"
  },
  "language_info": {
   "codemirror_mode": {
    "name": "ipython",
    "version": 3
   },
   "file_extension": ".py",
   "mimetype": "text/x-python",
   "name": "python",
   "nbconvert_exporter": "python",
   "pygments_lexer": "ipython3",
   "version": "3.6.3"
  }
 },
 "nbformat": 4,
 "nbformat_minor": 2
}
