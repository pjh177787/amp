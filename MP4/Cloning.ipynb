{
 "cells": [
  {
   "cell_type": "markdown",
   "metadata": {},
   "source": [
    "## Part 2: Behavioral Cloning and Deep Learning\n",
    "### Part 2.1: Policy Behavioral Cloning"
   ]
  },
  {
   "cell_type": "code",
   "execution_count": 4,
   "metadata": {},
   "outputs": [],
   "source": [
    "%load_ext autoreload"
   ]
  },
  {
   "cell_type": "code",
   "execution_count": 19,
   "metadata": {},
   "outputs": [
    {
     "name": "stdout",
     "output_type": "stream",
     "text": [
      "[[ 0.5    0.5    0.03   0.01   0.4    2.   ]\n",
      " [ 0.53   0.51   0.03   0.01   0.44   2.   ]\n",
      " [ 0.56   0.52   0.03   0.01   0.48   2.   ]\n",
      " ..., \n",
      " [ 0.431  0.185 -0.038  0.057  0.56   2.   ]\n",
      " [ 0.393  0.242 -0.038  0.057  0.6    0.   ]\n",
      " [ 0.356  0.299 -0.038  0.057  0.56   0.   ]]\n",
      "[[ 0.5    0.5    0.03   0.01   0.4  ]\n",
      " [ 0.53   0.51   0.03   0.01   0.44 ]\n",
      " [ 0.56   0.52   0.03   0.01   0.48 ]\n",
      " ..., \n",
      " [ 0.431  0.185 -0.038  0.057  0.56 ]\n",
      " [ 0.393  0.242 -0.038  0.057  0.6  ]\n",
      " [ 0.356  0.299 -0.038  0.057  0.56 ]]\n",
      "[[ 2.]\n",
      " [ 2.]\n",
      " [ 2.]\n",
      " ..., \n",
      " [ 2.]\n",
      " [ 0.]\n",
      " [ 0.]]\n",
      "10000\n",
      "[[2 3 4]\n",
      " [6 7 8]]\n"
     ]
    }
   ],
   "source": [
    "%autoreload 2\n",
    "from Cloning import *\n",
    "\n",
    "srcfile_name = './expert_policy.txt'\n",
    "\n",
    "cl = Cloning(srcfile_name)\n",
    "print(cl.expert_policy)\n",
    "print(cl.expert_states)\n",
    "print(cl.expert_actions)\n",
    "print(np.shape(cl.expert_policy)[0])\n",
    "\n",
    "A = np.array([[1, 2, 3], [4, 5, 6]])\n",
    "b = np.array([[1], [2]])\n",
    "print(A + b)"
   ]
  },
  {
   "cell_type": "code",
   "execution_count": null,
   "metadata": {
    "collapsed": true
   },
   "outputs": [],
   "source": []
  }
 ],
 "metadata": {
  "kernelspec": {
   "display_name": "Python 3",
   "language": "python",
   "name": "python3"
  },
  "language_info": {
   "codemirror_mode": {
    "name": "ipython",
    "version": 3
   },
   "file_extension": ".py",
   "mimetype": "text/x-python",
   "name": "python",
   "nbconvert_exporter": "python",
   "pygments_lexer": "ipython3",
   "version": "3.6.3"
  }
 },
 "nbformat": 4,
 "nbformat_minor": 2
}
