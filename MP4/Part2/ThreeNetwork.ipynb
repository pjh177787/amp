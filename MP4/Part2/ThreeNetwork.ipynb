{
 "cells": [
  {
   "cell_type": "code",
   "execution_count": 28,
   "metadata": {},
   "outputs": [],
   "source": [
    "from Operations import *\n",
    "from numpy import random\n",
    "\n",
    "\n",
    "class Three_NETWORK():\n",
    "    def __init__():\n",
    "        batch_size=100\n",
    "        W_array=[]\n",
    "        b_array=[]\n",
    "        return\n",
    "    \n",
    "    def Three_NETWORK(X,W_array,b_array,y,test,learning_rate):\n",
    "        Z1,acache1=Affine_Forward(A,W_array[0],b_array[0])\n",
    "        A1,rcache1=ReLU_Forward(Z1)\n",
    "        Z2,acache2=Affine_Forward(A1,W_array[1],b_array[1])\n",
    "        A2,rcache3=ReLU_Forward(Z2,W_array[1],b_array[1])\n",
    "        F,acache3=Affine_Forward(A2,W_array[2],b_array[2])\n",
    "        if test== true:\n",
    "            #need update\n",
    "            classifications=0\n",
    "            return classification\n",
    "        loss,dF=cross_entropy(F,y)\n",
    "        dA2,dW2,db3=Affine_Backward(dZ2,acache2)\n",
    "        dZ1=ReLU_Backward(dA1,rcache1)\n",
    "        dX,dW1,db1=Affine_Backward(dZ1,acache1)\n",
    "        W_array[0]-=learning_rate*dW1\n",
    "        W_array[1]-=learning_rate*dW2\n",
    "        W_array[2]-=learning_rate*dW3\n",
    "    \n",
    "        return loss\n",
    "\n",
    "\n",
    "    def MinibatchGD(data,num_epoch):\n",
    "        random.seed(1)\n",
    "        W_array[0]=random.random((5,100))\n",
    "        W_array[1]=random.random((5,100))\n",
    "        W_array[2]=random.random((5,100))\n",
    "        b_array[0]=np.zeros(batch_size).T\n",
    "        b_array[1]=np.zeros(batch_size).T\n",
    "        b_array[2]=np.zeros(batch_size).T\n",
    "        for epoch in range(num_epoch):\n",
    "            shuffle(data)\n",
    "            for i in range(10000/batch_size):\n",
    "                #X has features and y has targets\n",
    "                X,y=data[i*batch_size:i*(batch_size+batch_size),0:5],(data[i*batch_size:i*(batch_size+batch_size),5]).T\n",
    "                loss=Three_NETWORK(X,W_array,b_array,y,test)\n",
    "    "
   ]
  },
  {
   "cell_type": "code",
   "execution_count": 23,
   "metadata": {},
   "outputs": [
    {
     "name": "stdout",
     "output_type": "stream",
     "text": [
      "[[0.]\n",
      " [0.]]\n"
     ]
    }
   ],
   "source": []
  },
  {
   "cell_type": "code",
   "execution_count": null,
   "metadata": {},
   "outputs": [],
   "source": []
  }
 ],
 "metadata": {
  "kernelspec": {
   "display_name": "Python 3",
   "language": "python",
   "name": "python3"
  },
  "language_info": {
   "codemirror_mode": {
    "name": "ipython",
    "version": 3
   },
   "file_extension": ".py",
   "mimetype": "text/x-python",
   "name": "python",
   "nbconvert_exporter": "python",
   "pygments_lexer": "ipython3",
   "version": "3.6.4"
  }
 },
 "nbformat": 4,
 "nbformat_minor": 2
}
