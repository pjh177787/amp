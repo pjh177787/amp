{
 "cells": [
  {
   "cell_type": "code",
   "execution_count": 80,
   "metadata": {},
   "outputs": [],
   "source": [
    "import numpy as np\n",
    "from numpy import exp,array,random,dot\n",
    "\n",
    "        \n",
    "class Operation():\n",
    "    \n",
    "    def __init__():\n",
    "        return\n",
    "    \n",
    "    def Affine_Forward(A,W,b):\n",
    "    \n",
    "        Z= np.dot(A, W) + b\n",
    "        cache=(A,W,b)\n",
    "        return cache,Z\n",
    "    \n",
    "\n",
    "    \n",
    "    def Affine_Backward(dZ,cache):\n",
    "    \n",
    "        A,W,b=cache\n",
    "        dA=dot(dZ,W.T) \n",
    "        dW=dot(A.T,dZ)\n",
    "        db=dot(Z.T,np.ones(dZ.shape[0]))\n",
    "        return dA,dW,db\n",
    "\n",
    "    \n",
    "    \n",
    "    def ReLU_Forward(Z):\n",
    "        A=np.maxium(0,Z)\n",
    "        cache=Z\n",
    "        return A,cache\n",
    "\n",
    "\n",
    "\n",
    "\n",
    "    def ReLU_Backward(dA,cache):\n",
    "        Grad_Z=np.array(dA,copy=True)\n",
    "        Grad_Z[cache<=0]=0\n",
    "        return Grad_Z\n",
    "\n",
    "\n",
    "    def softmax(F):\n",
    "        exps=np.exp(F)\n",
    "        return exps/np.sum(exps)\n",
    "\n",
    "    def Cross_Entropy(F,y):\n",
    "        m=y.shape[0]\n",
    "    \n",
    "        Loss=-np.sum(F-log_likelihood)/m\n",
    "        dF=None\n",
    "    \n",
    "        p=softmax(F)\n",
    "        \n",
    "        return Loss,dF\n",
    "    \n",
    "        \n",
    "\n",
    "        \n",
    "        \n",
    " \n",
    "        \n",
    "        \n",
    "        "
   ]
  },
  {
   "cell_type": "code",
   "execution_count": 76,
   "metadata": {},
   "outputs": [
    {
     "name": "stdout",
     "output_type": "stream",
     "text": [
      "(3, 2)\n",
      "(3,)\n"
     ]
    }
   ],
   "source": [
    "W=array([[1,2],[1,2],[1,3]])\n",
    "b=array([1,2,3]).T\n",
    "print(W.shape)\n",
    "print(b.shape)\n",
    "N=W.shape[0]\n"
   ]
  },
  {
   "cell_type": "code",
   "execution_count": null,
   "metadata": {},
   "outputs": [],
   "source": [
    "\n"
   ]
  },
  {
   "cell_type": "code",
   "execution_count": null,
   "metadata": {},
   "outputs": [],
   "source": []
  }
 ],
 "metadata": {
  "kernelspec": {
   "display_name": "Python 3",
   "language": "python",
   "name": "python3"
  },
  "language_info": {
   "codemirror_mode": {
    "name": "ipython",
    "version": 3
   },
   "file_extension": ".py",
   "mimetype": "text/x-python",
   "name": "python",
   "nbconvert_exporter": "python",
   "pygments_lexer": "ipython3",
   "version": "3.6.4"
  }
 },
 "nbformat": 4,
 "nbformat_minor": 2
}
