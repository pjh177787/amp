{
 "cells": [
  {
   "cell_type": "code",
   "execution_count": 1,
   "metadata": {},
   "outputs": [
    {
     "name": "stdout",
     "output_type": "stream",
     "text": [
      "dfs takes:  0.0015092635101270843\n",
      "bfs takes:  0.00476757740166605\n",
      "astar takes:  0.008482425016113791\n"
     ]
    },
    {
     "ename": "NameError",
     "evalue": "name 'path_astar' is not defined",
     "output_type": "error",
     "traceback": [
      "\u001b[1;31m---------------------------------------------------------------------------\u001b[0m",
      "\u001b[1;31mNameError\u001b[0m                                 Traceback (most recent call last)",
      "\u001b[1;32m<ipython-input-1-6b1cf44e9183>\u001b[0m in \u001b[0;36m<module>\u001b[1;34m()\u001b[0m\n\u001b[0;32m     45\u001b[0m \u001b[0mprint\u001b[0m\u001b[1;33m(\u001b[0m\u001b[1;34m'astar takes: '\u001b[0m\u001b[1;33m,\u001b[0m \u001b[0mtimer_t\u001b[0m \u001b[1;33m-\u001b[0m \u001b[0mtimer_s\u001b[0m\u001b[1;33m)\u001b[0m\u001b[1;33m\u001b[0m\u001b[0m\n\u001b[0;32m     46\u001b[0m \u001b[1;33m\u001b[0m\u001b[0m\n\u001b[1;32m---> 47\u001b[1;33m \u001b[0mmaze_sol_astar\u001b[0m \u001b[1;33m=\u001b[0m \u001b[0mdraw_path\u001b[0m\u001b[1;33m(\u001b[0m\u001b[0mmaze_map\u001b[0m\u001b[1;33m,\u001b[0m \u001b[0mpath_astar\u001b[0m\u001b[1;33m,\u001b[0m \u001b[0mstart\u001b[0m\u001b[1;33m,\u001b[0m \u001b[0mgoal\u001b[0m\u001b[1;33m)\u001b[0m\u001b[1;33m\u001b[0m\u001b[0m\n\u001b[0m\u001b[0;32m     48\u001b[0m \u001b[0mwrite_sol_to_file\u001b[0m\u001b[1;33m(\u001b[0m\u001b[0msname_astar\u001b[0m\u001b[1;33m,\u001b[0m \u001b[0mmaze_sol_astar\u001b[0m\u001b[1;33m)\u001b[0m\u001b[1;33m\u001b[0m\u001b[0m\n",
      "\u001b[1;31mNameError\u001b[0m: name 'path_astar' is not defined"
     ]
    }
   ],
   "source": [
    "from search import *\n",
    "import numpy as np\n",
    "import time\n",
    "    \n",
    "fname = 'src/openMaze.txt'\n",
    "sname_dfs = fname[:-4] + '_sol_dfs' + fname[-4:]\n",
    "sname_bfs = fname[:-4] + '_sol_bfs' + fname[-4:]\n",
    "sname_astar = fname[:-4] + '_sol_astar' + fname[-4:]\n",
    "\n",
    "\n",
    "#############################################\n",
    "# DFS solution\n",
    "#############################################\n",
    "maze_map, start, goal = parse_file(fname)\n",
    "\n",
    "timer_s = time.clock()\n",
    "path_dfs = find_path_dfs(maze_map, start, goal)\n",
    "timer_t = time.clock()\n",
    "print('dfs takes: ', timer_t - timer_s)\n",
    "\n",
    "maze_sol_dfs = draw_path(maze_map, path_dfs, start, goal)\n",
    "write_sol_to_file(sname_dfs, maze_sol_dfs)\n",
    "\n",
    "#############################################\n",
    "# DFS solution\n",
    "#############################################\n",
    "maze_map, start, goal = parse_file(fname)\n",
    "\n",
    "timer = time.clock()\n",
    "path_bfs = find_path_bfs(maze_map, start, goal)\n",
    "timer_t = time.clock()\n",
    "print('bfs takes: ', timer_t - timer_s)\n",
    "\n",
    "maze_sol_bfs = draw_path(maze_map, path_bfs, start, goal)\n",
    "write_sol_to_file(sname_bfs, maze_sol_bfs)\n",
    "\n",
    "#############################################\n",
    "# A-Star solution\n",
    "#############################################\n",
    "maze_map, start, goal = parse_file(fname)\n",
    "\n",
    "timer = time.clock()\n",
    "path_astar = find_path_astar(maze_map, start, goal)\n",
    "timer_t = time.clock()\n",
    "print('astar takes: ', timer_t - timer_s)\n",
    "\n",
    "maze_sol_astar = draw_path(maze_map, path_astar, start, goal)\n",
    "write_sol_to_file(sname_astar, maze_sol_astar)"
   ]
  },
  {
   "cell_type": "code",
   "execution_count": null,
   "metadata": {
    "collapsed": true
   },
   "outputs": [],
   "source": []
  }
 ],
 "metadata": {
  "kernelspec": {
   "display_name": "Python 3",
   "language": "python",
   "name": "python3"
  },
  "language_info": {
   "codemirror_mode": {
    "name": "ipython",
    "version": 3
   },
   "file_extension": ".py",
   "mimetype": "text/x-python",
   "name": "python",
   "nbconvert_exporter": "python",
   "pygments_lexer": "ipython3",
   "version": "3.6.3"
  }
 },
 "nbformat": 4,
 "nbformat_minor": 2
}
