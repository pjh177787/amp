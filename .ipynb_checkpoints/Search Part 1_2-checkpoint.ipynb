{
 "cells": [
  {
   "cell_type": "markdown",
   "metadata": {
    "collapsed": true
   },
   "source": [
    "# Assignment 1: Search\n",
    "# Part 2:"
   ]
  },
  {
   "cell_type": "code",
   "execution_count": 5,
   "metadata": {
    "collapsed": true
   },
   "outputs": [],
   "source": [
    "from search import *\n",
    "import numpy as np\n",
    "import time\n",
    "    \n",
    "fname = 'src/bigWall.txt'\n",
    "# sname_dfs = fname[:-4] + '_sol_dfs' + fname[-4:]\n",
    "sname_bfs = fname[:4] + 'p1_2_sol/' + fname[4:-4] + '_sol_bfs' + fname[-4:]\n",
    "sname_gbfs = fname[:4] + 'p1_2_sol/' + fname[4:-4] + '_sol_gbfs' + fname[-4:]\n",
    "sname_astar = fname[:4] + 'p1_2_sol/' + fname[4:-4] + '_sol_astar' + fname[-4:]\n"
   ]
  },
  {
   "cell_type": "markdown",
   "metadata": {},
   "source": [
    "# Breadth First Search\n"
   ]
  },
  {
   "cell_type": "code",
   "execution_count": 6,
   "metadata": {},
   "outputs": [
    {
     "name": "stdout",
     "output_type": "stream",
     "text": [
      "bfs takes 0.01713862132282884 seconds, costs 114 steps and expands 1584 cells.\n"
     ]
    }
   ],
   "source": [
    "maze_map, start, goal = parse_file(fname)\n",
    "\n",
    "timer_s = time.clock()\n",
    "path_bfs, expanded_bfs = find_path_bfs(maze_map, start, goal)\n",
    "timer_t = time.clock()\n",
    "print('bfs takes', timer_t - timer_s, \n",
    "      'seconds, costs', len(path_bfs), \n",
    "      'steps and expands', expanded_bfs, 'cells.')\n",
    "# print(path_bfs)\n",
    "\n",
    "maze_sol_bfs = draw_path(maze_map, path_bfs, start, goal)\n",
    "write_sol_to_file(sname_bfs, maze_sol_bfs)\n"
   ]
  },
  {
   "cell_type": "markdown",
   "metadata": {},
   "source": [
    "# Greedy Best First Search"
   ]
  },
  {
   "cell_type": "code",
   "execution_count": 7,
   "metadata": {},
   "outputs": [
    {
     "name": "stdout",
     "output_type": "stream",
     "text": [
      "gbfs takes 0.009275623369802588 seconds, costs 234 steps and expands 234 cells.\n"
     ]
    }
   ],
   "source": [
    "maze_map, start, goal = parse_file(fname)\n",
    "\n",
    "timer_s = time.clock()\n",
    "path_gbfs, expanded_gbfs = find_path_gbfs(maze_map, start, goal)\n",
    "timer_t = time.clock()\n",
    "print('gbfs takes', timer_t - timer_s, \n",
    "      'seconds, costs', len(path_gbfs), \n",
    "      'steps and expands', expanded_gbfs, 'cells.')\n",
    "# print(path_gbfs)\n",
    "\n",
    "maze_sol_gbfs = draw_path(maze_map, path_gbfs, start, goal)\n",
    "write_sol_to_file(sname_gbfs, maze_sol_gbfs)"
   ]
  },
  {
   "cell_type": "markdown",
   "metadata": {},
   "source": [
    "# A* Search"
   ]
  },
  {
   "cell_type": "code",
   "execution_count": 8,
   "metadata": {},
   "outputs": [
    {
     "name": "stdout",
     "output_type": "stream",
     "text": [
      "astar takes 0.024648462921675218 seconds, costs 114 steps and expands 783 cells.\n"
     ]
    }
   ],
   "source": [
    "maze_map, start, goal = parse_file(fname)\n",
    "\n",
    "timer_s = time.clock()\n",
    "path_astar, expanded_astar = find_path_astar(maze_map, start, goal)\n",
    "timer_t = time.clock()\n",
    "print('astar takes', timer_t - timer_s, \n",
    "      'seconds, costs', len(path_astar), \n",
    "      'steps and expands', expanded_astar, 'cells.')\n",
    "# print(path_astar)\n",
    "\n",
    "maze_sol_astar = draw_path(maze_map, path_astar, start, goal)\n",
    "write_sol_to_file(sname_astar, maze_sol_astar)"
   ]
  },
  {
   "cell_type": "code",
   "execution_count": null,
   "metadata": {
    "collapsed": true
   },
   "outputs": [],
   "source": []
  },
  {
   "cell_type": "code",
   "execution_count": null,
   "metadata": {
    "collapsed": true
   },
   "outputs": [],
   "source": []
  },
  {
   "cell_type": "code",
   "execution_count": null,
   "metadata": {
    "collapsed": true
   },
   "outputs": [],
   "source": []
  },
  {
   "cell_type": "code",
   "execution_count": null,
   "metadata": {
    "collapsed": true
   },
   "outputs": [],
   "source": []
  }
 ],
 "metadata": {
  "kernelspec": {
   "display_name": "Python 3",
   "language": "python",
   "name": "python3"
  },
  "language_info": {
   "codemirror_mode": {
    "name": "ipython",
    "version": 3
   },
   "file_extension": ".py",
   "mimetype": "text/x-python",
   "name": "python",
   "nbconvert_exporter": "python",
   "pygments_lexer": "ipython3",
   "version": "3.6.3"
  }
 },
 "nbformat": 4,
 "nbformat_minor": 2
}
