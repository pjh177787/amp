{
 "cells": [
  {
   "cell_type": "markdown",
   "metadata": {
    "collapsed": true
   },
   "source": [
    "# Assignment 1: Search\n",
    "# Part 1:"
   ]
  },
  {
   "cell_type": "code",
   "execution_count": 24,
   "metadata": {
    "collapsed": true
   },
   "outputs": [],
   "source": [
    "from search_1_1 import *\n",
    "import numpy as np\n",
    "import time\n",
    "    \n",
    "fname = 'src/bigMaze.txt'\n",
    "sname_dfs = fname[:4] + 'p1_1_sol/' + fname[4:-4] + '_sol_dfs' + fname[-4:]\n",
    "sname_bfs = fname[:4] + 'p1_1_sol/' + fname[4:-4] + '_sol_bfs' + fname[-4:]\n",
    "sname_gbfs = fname[:4] + 'p1_1_sol/' + fname[4:-4] + '_sol_gbfs' + fname[-4:]\n",
    "sname_astar = fname[:4] + 'p1_1_sol/' + fname[4:-4] + '_sol_astar' + fname[-4:]\n"
   ]
  },
  {
   "cell_type": "markdown",
   "metadata": {
    "collapsed": true
   },
   "source": [
    "# Depth Firth Search\n"
   ]
  },
  {
   "cell_type": "code",
   "execution_count": 25,
   "metadata": {},
   "outputs": [
    {
     "name": "stdout",
     "output_type": "stream",
     "text": [
      "DFS takes 0.002 seconds, costs 232 steps and expands 256 cells.\n"
     ]
    }
   ],
   "source": [
    "maze_map, start, goal = parse_file(fname)\n",
    "\n",
    "timer_s = time.clock()\n",
    "path_dfs, expanded_dfs = find_path_dfs(maze_map, start, goal)\n",
    "timer_t = time.clock()\n",
    "print('DFS takes', round(timer_t - timer_s, 4), \n",
    "      'seconds, costs', len(path_dfs), \n",
    "      'steps and expands', expanded_dfs, 'cells.')\n",
    "# print(path_dfs)\n",
    "\n",
    "maze_sol_dfs = draw_path(maze_map, path_dfs, start, goal)\n",
    "write_sol_to_file(sname_dfs, maze_sol_dfs)\n"
   ]
  },
  {
   "cell_type": "markdown",
   "metadata": {},
   "source": [
    "# Breadth First Search\n"
   ]
  },
  {
   "cell_type": "code",
   "execution_count": 26,
   "metadata": {},
   "outputs": [
    {
     "name": "stdout",
     "output_type": "stream",
     "text": [
      "BFS takes 0.0033 seconds, costs 156 steps and expands 1258 cells.\n"
     ]
    }
   ],
   "source": [
    "maze_map, start, goal = parse_file(fname)\n",
    "\n",
    "timer_s = time.clock()\n",
    "path_bfs, expanded_bfs = find_path_bfs(maze_map, start, goal)\n",
    "timer_t = time.clock()\n",
    "print('BFS takes', round(timer_t - timer_s, 4), \n",
    "      'seconds, costs', len(path_bfs), \n",
    "      'steps and expands', expanded_bfs, 'cells.')\n",
    "# print(path_bfs)\n",
    "\n",
    "maze_sol_bfs = draw_path(maze_map, path_bfs, start, goal)\n",
    "write_sol_to_file(sname_bfs, maze_sol_bfs)\n"
   ]
  },
  {
   "cell_type": "markdown",
   "metadata": {},
   "source": [
    "# Greedy Best First Search"
   ]
  },
  {
   "cell_type": "code",
   "execution_count": 27,
   "metadata": {},
   "outputs": [
    {
     "name": "stdout",
     "output_type": "stream",
     "text": [
      "GBFS takes 0.0028 seconds, costs 222 steps and expands 280 cells.\n"
     ]
    }
   ],
   "source": [
    "maze_map, start, goal = parse_file(fname)\n",
    "\n",
    "timer_s = time.clock()\n",
    "path_gbfs, expanded_gbfs = find_path_gbfs(maze_map, start, goal)\n",
    "timer_t = time.clock()\n",
    "print('GBFS takes', round(timer_t - timer_s, 4), \n",
    "      'seconds, costs', len(path_gbfs), \n",
    "      'steps and expands', expanded_gbfs, 'cells.')\n",
    "# print(path_gbfs)\n",
    "\n",
    "maze_sol_gbfs = draw_path(maze_map, path_gbfs, start, goal)\n",
    "write_sol_to_file(sname_gbfs, maze_sol_gbfs)"
   ]
  },
  {
   "cell_type": "markdown",
   "metadata": {},
   "source": [
    "# A* Search"
   ]
  },
  {
   "cell_type": "code",
   "execution_count": 28,
   "metadata": {},
   "outputs": [
    {
     "name": "stdout",
     "output_type": "stream",
     "text": [
      "A* takes 0.0053 seconds, costs 156 steps and expands 1129 cells.\n"
     ]
    }
   ],
   "source": [
    "maze_map, start, goal = parse_file(fname)\n",
    "\n",
    "timer_s = time.clock()\n",
    "path_astar, expanded_astar = find_path_astar(maze_map, start, goal)\n",
    "timer_t = time.clock()\n",
    "print('A* takes', round(timer_t - timer_s, 4), \n",
    "      'seconds, costs', len(path_astar), \n",
    "      'steps and expands', expanded_astar, 'cells.')\n",
    "# print(path_astar)\n",
    "\n",
    "maze_sol_astar = draw_path(maze_map, path_astar, start, goal)\n",
    "write_sol_to_file(sname_astar, maze_sol_astar)"
   ]
  },
  {
   "cell_type": "code",
   "execution_count": null,
   "metadata": {
    "collapsed": true
   },
   "outputs": [],
   "source": []
  },
  {
   "cell_type": "code",
   "execution_count": null,
   "metadata": {
    "collapsed": true
   },
   "outputs": [],
   "source": []
  },
  {
   "cell_type": "code",
   "execution_count": null,
   "metadata": {
    "collapsed": true
   },
   "outputs": [],
   "source": []
  },
  {
   "cell_type": "code",
   "execution_count": null,
   "metadata": {
    "collapsed": true
   },
   "outputs": [],
   "source": []
  }
 ],
 "metadata": {
  "kernelspec": {
   "display_name": "Python 3",
   "language": "python",
   "name": "python3"
  },
  "language_info": {
   "codemirror_mode": {
    "name": "ipython",
    "version": 3
   },
   "file_extension": ".py",
   "mimetype": "text/x-python",
   "name": "python",
   "nbconvert_exporter": "python",
   "pygments_lexer": "ipython3",
   "version": "3.6.3"
  }
 },
 "nbformat": 4,
 "nbformat_minor": 2
}
