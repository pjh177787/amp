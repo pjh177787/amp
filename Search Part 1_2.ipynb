{
 "cells": [
  {
   "cell_type": "markdown",
   "metadata": {
    "collapsed": true
   },
   "source": [
    "# Assignment 1: Search\n",
    "# Part 2:"
   ]
  },
  {
   "cell_type": "code",
   "execution_count": 1,
   "metadata": {},
   "outputs": [
    {
     "name": "stdout",
     "output_type": "stream",
     "text": [
      "(1, 1) (1, 8) 7\n",
      "(1, 1) (2, 3) 3\n",
      "(1, 1) (3, 6) 7\n",
      "(1, 1) (3, 8) 9\n",
      "(1, 1) (4, 2) 4\n",
      "(1, 1) (4, 4) 6\n",
      "(1, 1) (5, 1) 4\n",
      "(1, 1) (5, 4) 7\n",
      "(1, 1) (5, 7) 10\n",
      "(1, 1) (6, 8) 12\n",
      "(1, 1) (7, 1) 6\n",
      "(1, 1) (7, 6) 11\n",
      "(1, 8) (2, 3) 6\n",
      "(1, 8) (3, 6) 4\n",
      "(1, 8) (3, 8) 2\n",
      "(1, 8) (4, 2) 9\n",
      "(1, 8) (4, 4) 7\n",
      "(1, 8) (5, 1) 11\n",
      "(1, 8) (5, 4) 8\n",
      "(1, 8) (5, 7) 5\n",
      "(1, 8) (6, 8) 5\n",
      "(1, 8) (7, 1) 13\n",
      "(1, 8) (7, 6) 8\n",
      "(2, 3) (3, 6) 4\n",
      "(2, 3) (3, 8) 6\n",
      "(2, 3) (4, 2) 3\n",
      "(2, 3) (4, 4) 3\n",
      "(2, 3) (5, 1) 5\n",
      "(2, 3) (5, 4) 4\n",
      "(2, 3) (5, 7) 7\n",
      "(2, 3) (6, 8) 9\n",
      "(2, 3) (7, 1) 7\n",
      "(2, 3) (7, 6) 8\n",
      "(3, 6) (3, 8) 2\n",
      "(3, 6) (4, 2) 5\n",
      "(3, 6) (4, 4) 3\n",
      "(3, 6) (5, 1) 7\n",
      "(3, 6) (5, 4) 4\n",
      "(3, 6) (5, 7) 3\n",
      "(3, 6) (6, 8) 5\n",
      "(3, 6) (7, 1) 9\n",
      "(3, 6) (7, 6) 4\n",
      "(3, 8) (4, 2) 7\n",
      "(3, 8) (4, 4) 5\n",
      "(3, 8) (5, 1) 9\n",
      "(3, 8) (5, 4) 6\n",
      "(3, 8) (5, 7) 3\n",
      "(3, 8) (6, 8) 3\n",
      "(3, 8) (7, 1) 11\n",
      "(3, 8) (7, 6) 6\n",
      "(4, 2) (4, 4) 2\n",
      "(4, 2) (5, 1) 2\n",
      "(4, 2) (5, 4) 3\n",
      "(4, 2) (5, 7) 6\n",
      "(4, 2) (6, 8) 8\n",
      "(4, 2) (7, 1) 4\n",
      "(4, 2) (7, 6) 7\n",
      "(4, 4) (5, 1) 4\n",
      "(4, 4) (5, 4) 1\n",
      "(4, 4) (5, 7) 4\n",
      "(4, 4) (6, 8) 6\n",
      "(4, 4) (7, 1) 6\n",
      "(4, 4) (7, 6) 5\n",
      "(5, 1) (5, 4) 3\n",
      "(5, 1) (5, 7) 6\n",
      "(5, 1) (6, 8) 8\n",
      "(5, 1) (7, 1) 2\n",
      "(5, 1) (7, 6) 7\n",
      "(5, 4) (5, 7) 3\n",
      "(5, 4) (6, 8) 5\n",
      "(5, 4) (7, 1) 5\n",
      "(5, 4) (7, 6) 4\n",
      "(5, 7) (6, 8) 2\n",
      "(5, 7) (7, 1) 8\n",
      "(5, 7) (7, 6) 3\n",
      "(6, 8) (7, 1) 8\n",
      "(6, 8) (7, 6) 3\n",
      "(7, 1) (7, 6) 5\n"
     ]
    },
    {
     "ename": "TypeError",
     "evalue": "list indices must be integers or slices, not tuple",
     "output_type": "error",
     "traceback": [
      "\u001b[1;31m---------------------------------------------------------------------------\u001b[0m",
      "\u001b[1;31mTypeError\u001b[0m                                 Traceback (most recent call last)",
      "\u001b[1;32m<ipython-input-1-fc4da500bf75>\u001b[0m in \u001b[0;36m<module>\u001b[1;34m()\u001b[0m\n\u001b[0;32m     17\u001b[0m     \u001b[0mprint\u001b[0m\u001b[1;33m(\u001b[0m\u001b[0mpair\u001b[0m\u001b[1;33m[\u001b[0m\u001b[1;36m0\u001b[0m\u001b[1;33m]\u001b[0m\u001b[1;33m,\u001b[0m \u001b[0mpair\u001b[0m\u001b[1;33m[\u001b[0m\u001b[1;36m1\u001b[0m\u001b[1;33m]\u001b[0m\u001b[1;33m,\u001b[0m \u001b[0mdist_dict\u001b[0m\u001b[1;33m[\u001b[0m\u001b[0mpair\u001b[0m\u001b[1;33m]\u001b[0m\u001b[1;33m)\u001b[0m\u001b[1;33m\u001b[0m\u001b[0m\n\u001b[0;32m     18\u001b[0m     \u001b[0mt\u001b[0m\u001b[1;33m.\u001b[0m\u001b[0maddEdge\u001b[0m\u001b[1;33m(\u001b[0m\u001b[0mpair\u001b[0m\u001b[1;33m[\u001b[0m\u001b[1;36m0\u001b[0m\u001b[1;33m]\u001b[0m\u001b[1;33m,\u001b[0m \u001b[0mpair\u001b[0m\u001b[1;33m[\u001b[0m\u001b[1;36m1\u001b[0m\u001b[1;33m]\u001b[0m\u001b[1;33m,\u001b[0m \u001b[0mdist_dict\u001b[0m\u001b[1;33m[\u001b[0m\u001b[0mpair\u001b[0m\u001b[1;33m]\u001b[0m\u001b[1;33m)\u001b[0m\u001b[1;33m\u001b[0m\u001b[0m\n\u001b[1;32m---> 19\u001b[1;33m \u001b[0mmst\u001b[0m \u001b[1;33m=\u001b[0m \u001b[0mt\u001b[0m\u001b[1;33m.\u001b[0m\u001b[0mKruskalMST\u001b[0m\u001b[1;33m(\u001b[0m\u001b[1;33m)\u001b[0m\u001b[1;33m\u001b[0m\u001b[0m\n\u001b[0m\u001b[0;32m     20\u001b[0m \u001b[0mprint\u001b[0m\u001b[1;33m(\u001b[0m\u001b[0mmst\u001b[0m\u001b[1;33m)\u001b[0m\u001b[1;33m\u001b[0m\u001b[0m\n",
      "\u001b[1;32m~\\Dropbox\\Code\\amp\\search_1_2.py\u001b[0m in \u001b[0;36mKruskalMST\u001b[1;34m(self)\u001b[0m\n\u001b[0;32m     76\u001b[0m             \u001b[0mu\u001b[0m\u001b[1;33m,\u001b[0m\u001b[0mv\u001b[0m\u001b[1;33m,\u001b[0m\u001b[0mw\u001b[0m \u001b[1;33m=\u001b[0m \u001b[0mself\u001b[0m\u001b[1;33m.\u001b[0m\u001b[0mtree\u001b[0m\u001b[1;33m[\u001b[0m\u001b[0mi\u001b[0m\u001b[1;33m]\u001b[0m\u001b[1;33m\u001b[0m\u001b[0m\n\u001b[0;32m     77\u001b[0m             \u001b[0mi\u001b[0m \u001b[1;33m=\u001b[0m \u001b[0mi\u001b[0m \u001b[1;33m+\u001b[0m \u001b[1;36m1\u001b[0m\u001b[1;33m\u001b[0m\u001b[0m\n\u001b[1;32m---> 78\u001b[1;33m             \u001b[0mx\u001b[0m \u001b[1;33m=\u001b[0m \u001b[0mself\u001b[0m\u001b[1;33m.\u001b[0m\u001b[0mfind\u001b[0m\u001b[1;33m(\u001b[0m\u001b[0mparent\u001b[0m\u001b[1;33m,\u001b[0m \u001b[0mu\u001b[0m\u001b[1;33m)\u001b[0m\u001b[1;33m\u001b[0m\u001b[0m\n\u001b[0m\u001b[0;32m     79\u001b[0m             \u001b[0my\u001b[0m \u001b[1;33m=\u001b[0m \u001b[0mself\u001b[0m\u001b[1;33m.\u001b[0m\u001b[0mfind\u001b[0m\u001b[1;33m(\u001b[0m\u001b[0mparent\u001b[0m \u001b[1;33m,\u001b[0m\u001b[0mv\u001b[0m\u001b[1;33m)\u001b[0m\u001b[1;33m\u001b[0m\u001b[0m\n\u001b[0;32m     80\u001b[0m \u001b[1;33m\u001b[0m\u001b[0m\n",
      "\u001b[1;32m~\\Dropbox\\Code\\amp\\search_1_2.py\u001b[0m in \u001b[0;36mfind\u001b[1;34m(self, parent, i)\u001b[0m\n\u001b[0;32m     24\u001b[0m     \u001b[1;31m# (uses path compression technique)\u001b[0m\u001b[1;33m\u001b[0m\u001b[1;33m\u001b[0m\u001b[0m\n\u001b[0;32m     25\u001b[0m     \u001b[1;32mdef\u001b[0m \u001b[0mfind\u001b[0m\u001b[1;33m(\u001b[0m\u001b[0mself\u001b[0m\u001b[1;33m,\u001b[0m \u001b[0mparent\u001b[0m\u001b[1;33m,\u001b[0m \u001b[0mi\u001b[0m\u001b[1;33m)\u001b[0m\u001b[1;33m:\u001b[0m\u001b[1;33m\u001b[0m\u001b[0m\n\u001b[1;32m---> 26\u001b[1;33m         \u001b[1;32mif\u001b[0m \u001b[0mparent\u001b[0m\u001b[1;33m[\u001b[0m\u001b[0mi\u001b[0m\u001b[1;33m]\u001b[0m \u001b[1;33m==\u001b[0m \u001b[0mi\u001b[0m\u001b[1;33m:\u001b[0m\u001b[1;33m\u001b[0m\u001b[0m\n\u001b[0m\u001b[0;32m     27\u001b[0m             \u001b[1;32mreturn\u001b[0m \u001b[0mi\u001b[0m\u001b[1;33m\u001b[0m\u001b[0m\n\u001b[0;32m     28\u001b[0m         \u001b[1;32mreturn\u001b[0m \u001b[0mself\u001b[0m\u001b[1;33m.\u001b[0m\u001b[0mfind\u001b[0m\u001b[1;33m(\u001b[0m\u001b[0mparent\u001b[0m\u001b[1;33m,\u001b[0m \u001b[0mparent\u001b[0m\u001b[1;33m[\u001b[0m\u001b[0mi\u001b[0m\u001b[1;33m]\u001b[0m\u001b[1;33m)\u001b[0m\u001b[1;33m\u001b[0m\u001b[0m\n",
      "\u001b[1;31mTypeError\u001b[0m: list indices must be integers or slices, not tuple"
     ]
    }
   ],
   "source": [
    "from search_1_2 import *\n",
    "import numpy as np\n",
    "import time\n",
    "    \n",
    "fname = 'src/tinySearch.txt'\n",
    "# sname_dfs = fname[:-4] + '_sol_dfs' + fname[-4:]\n",
    "sname_bfs = fname[:4] + 'p1_2_sol/' + fname[4:-4] + '_sol_bfs' + fname[-4:]\n",
    "sname_gbfs = fname[:4] + 'p1_2_sol/' + fname[4:-4] + '_sol_gbfs' + fname[-4:]\n",
    "sname_astar = fname[:4] + 'p1_2_sol/' + fname[4:-4] + '_sol_astar' + fname[-4:]\n",
    "\n",
    "maze_map, start, goal_arr, dist_dict = parse_file(fname)\n",
    "# print(goal_arr)\n",
    "# print(dist_dict)\n",
    "\n",
    "t = Tree(len(goal_arr))\n",
    "for pair in dist_dict.keys():\n",
    "    print(pair[0], pair[1], dist_dict[pair])\n",
    "    t.addEdge(pair[0], pair[1], dist_dict[pair])\n",
    "mst = t.KruskalMST()\n",
    "print(mst)"
   ]
  },
  {
   "cell_type": "markdown",
   "metadata": {},
   "source": [
    "# Breadth First Search\n"
   ]
  },
  {
   "cell_type": "code",
   "execution_count": 2,
   "metadata": {},
   "outputs": [
    {
     "name": "stdout",
     "output_type": "stream",
     "text": [
      "bfs takes 0.013436905301663382 seconds, costs 114 steps and expands 1584 cells.\n"
     ]
    }
   ],
   "source": [
    "maze_map, start, goal = parse_file(fname)\n",
    "\n",
    "timer_s = time.clock()\n",
    "path_bfs, expanded_bfs = find_path_bfs(maze_map, start, goal)\n",
    "timer_t = time.clock()\n",
    "print('bfs takes', timer_t - timer_s, \n",
    "      'seconds, costs', len(path_bfs), \n",
    "      'steps and expands', expanded_bfs, 'cells.')\n",
    "# print(path_bfs)\n",
    "\n",
    "maze_sol_bfs = draw_path(maze_map, path_bfs, start, goal)\n",
    "write_sol_to_file(sname_bfs, maze_sol_bfs)\n"
   ]
  },
  {
   "cell_type": "markdown",
   "metadata": {},
   "source": [
    "# Greedy Best First Search"
   ]
  },
  {
   "cell_type": "code",
   "execution_count": 3,
   "metadata": {},
   "outputs": [
    {
     "name": "stdout",
     "output_type": "stream",
     "text": [
      "gbfs takes 0.0063588705987824845 seconds, costs 234 steps and expands 234 cells.\n"
     ]
    }
   ],
   "source": [
    "maze_map, start, goal = parse_file(fname)\n",
    "\n",
    "timer_s = time.clock()\n",
    "path_gbfs, expanded_gbfs = find_path_gbfs(maze_map, start, goal)\n",
    "timer_t = time.clock()\n",
    "print('gbfs takes', timer_t - timer_s, \n",
    "      'seconds, costs', len(path_gbfs), \n",
    "      'steps and expands', expanded_gbfs, 'cells.')\n",
    "# print(path_gbfs)\n",
    "\n",
    "maze_sol_gbfs = draw_path(maze_map, path_gbfs, start, goal)\n",
    "write_sol_to_file(sname_gbfs, maze_sol_gbfs)"
   ]
  },
  {
   "cell_type": "markdown",
   "metadata": {},
   "source": [
    "# A* Search"
   ]
  },
  {
   "cell_type": "code",
   "execution_count": 4,
   "metadata": {},
   "outputs": [
    {
     "name": "stdout",
     "output_type": "stream",
     "text": [
      "astar takes 0.01691346486993872 seconds, costs 114 steps and expands 783 cells.\n"
     ]
    }
   ],
   "source": [
    "maze_map, start, goal = parse_file(fname)\n",
    "\n",
    "timer_s = time.clock()\n",
    "path_astar, expanded_astar = find_path_astar(maze_map, start, goal)\n",
    "timer_t = time.clock()\n",
    "print('astar takes', timer_t - timer_s, \n",
    "      'seconds, costs', len(path_astar), \n",
    "      'steps and expands', expanded_astar, 'cells.')\n",
    "# print(path_astar)\n",
    "\n",
    "maze_sol_astar = draw_path(maze_map, path_astar, start, goal)\n",
    "write_sol_to_file(sname_astar, maze_sol_astar)"
   ]
  },
  {
   "cell_type": "code",
   "execution_count": null,
   "metadata": {
    "collapsed": true
   },
   "outputs": [],
   "source": []
  },
  {
   "cell_type": "code",
   "execution_count": null,
   "metadata": {
    "collapsed": true
   },
   "outputs": [],
   "source": []
  },
  {
   "cell_type": "code",
   "execution_count": null,
   "metadata": {
    "collapsed": true
   },
   "outputs": [],
   "source": []
  },
  {
   "cell_type": "code",
   "execution_count": null,
   "metadata": {
    "collapsed": true
   },
   "outputs": [],
   "source": []
  }
 ],
 "metadata": {
  "kernelspec": {
   "display_name": "Python 3",
   "language": "python",
   "name": "python3"
  }
 },
 "nbformat": 4,
 "nbformat_minor": 2
}
