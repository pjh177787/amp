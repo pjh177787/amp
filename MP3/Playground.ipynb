{
 "cells": [
  {
   "cell_type": "code",
   "execution_count": 11,
   "metadata": {},
   "outputs": [
    {
     "name": "stdout",
     "output_type": "stream",
     "text": [
      "2436\n"
     ]
    }
   ],
   "source": [
    "trainfile = open('./digitdata/optdigits-orig_train.txt', 'r')\n",
    "label_list = []\n",
    "\n",
    "classes = [[[{'1':0, '0':0} for i in range(32)]\n",
    "                for i in range(32)]\n",
    "            for i in range(10)]\n",
    "\n",
    "for line in trainfile:\n",
    "    if len(line) < 32:\n",
    "        for ch in line:\n",
    "            if ch.isdigit():\n",
    "#                 print(ch)\n",
    "                label_list.append(int(ch))\n",
    "print(len(label_list))\n",
    "trainfile.seek(0)\n",
    "for label in label_list:\n",
    "    for i in range(32):\n",
    "        image_line = trainfile.readline()\n",
    "        for j in range(32):\n",
    "            classes[label][i][j][image_line[j]] += 1\n",
    "    image_line = trainfile.readline()\n",
    "    for ch in image_line:\n",
    "        if ch.isdigit() and int(ch) != label:\n",
    "            print('ALIGN ERROR')\n"
   ]
  },
  {
   "cell_type": "code",
   "execution_count": null,
   "metadata": {
    "collapsed": true
   },
   "outputs": [],
   "source": []
  }
 ],
 "metadata": {
  "kernelspec": {
   "display_name": "Python 3",
   "language": "python",
   "name": "python3"
  },
  "language_info": {
   "codemirror_mode": {
    "name": "ipython",
    "version": 3
   },
   "file_extension": ".py",
   "mimetype": "text/x-python",
   "name": "python",
   "nbconvert_exporter": "python",
   "pygments_lexer": "ipython3",
   "version": "3.6.3"
  }
 },
 "nbformat": 4,
 "nbformat_minor": 2
}
