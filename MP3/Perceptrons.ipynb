{
 "cells": [
  {
   "cell_type": "markdown",
   "metadata": {},
   "source": [
    "# Pattern Recognition\n",
    "## Part 2: Digit Classification using Discriminative Machine Learning Methods\n",
    "### Part 2.1 Digit Classification with Perceptrons"
   ]
  },
  {
   "cell_type": "code",
   "execution_count": 1,
   "metadata": {},
   "outputs": [],
   "source": [
    "from Perceptron import *\n",
    "np.set_printoptions(precision=3)\n",
    "\n",
    "trainfile_name = './digitdata/optdigits-orig_train.txt'\n",
    "testfile_name = './digitdata/optdigits-orig_test.txt'\n",
    "\n",
    "p = Preceptron(trainfile_name, testfile_name)\n",
    "curve = p.perceptron_train(0.025, 20)\n"
   ]
  },
  {
   "cell_type": "code",
   "execution_count": 5,
   "metadata": {},
   "outputs": [],
   "source": [
    "import matplotlib.pyplot as plt\n",
    "for i in range(len(curve)):\n",
    "    plt.figure(i)\n",
    "    plt.plot(curve[i])\n",
    "    plt.title(\"Training Curve for Digit %d\" %(i))\n",
    "    plt.xlabel(\"Epoch\")\n",
    "    plt.ylabel(\"Error\")\n",
    "    plt.savefig('src/learning_curve%d.png' %(i))"
   ]
  },
  {
   "cell_type": "code",
   "execution_count": 4,
   "metadata": {},
   "outputs": [
    {
     "name": "stdout",
     "output_type": "stream",
     "text": [
      "None\n"
     ]
    }
   ],
   "source": [
    "print(curve)"
   ]
  },
  {
   "cell_type": "code",
   "execution_count": null,
   "metadata": {
    "collapsed": true
   },
   "outputs": [],
   "source": []
  }
 ],
 "metadata": {
  "kernelspec": {
   "display_name": "Python 3",
   "language": "python",
   "name": "python3"
  },
  "language_info": {
   "codemirror_mode": {
    "name": "ipython",
    "version": 3
   },
   "file_extension": ".py",
   "mimetype": "text/x-python",
   "name": "python",
   "nbconvert_exporter": "python",
   "pygments_lexer": "ipython3",
   "version": "3.6.3"
  }
 },
 "nbformat": 4,
 "nbformat_minor": 2
}
