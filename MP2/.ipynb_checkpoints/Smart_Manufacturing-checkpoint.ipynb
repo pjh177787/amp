{
 "cells": [
  {
   "cell_type": "markdown",
   "metadata": {},
   "source": [
    "# Part 1: Smart Manufacturing\n",
    "## 1.1 Planning Using A* Search"
   ]
  },
  {
   "cell_type": "code",
   "execution_count": 4,
   "metadata": {},
   "outputs": [
    {
     "name": "stdout",
     "output_type": "stream",
     "text": [
      "{'A': 1, 'B': 3, 'D': 1}\n",
      "[('B', 3), ('A', 1), ('D', 1)]\n"
     ]
    },
    {
     "data": {
      "text/plain": [
       "'B'"
      ]
     },
     "execution_count": 4,
     "metadata": {},
     "output_type": "execute_result"
    }
   ],
   "source": [
    "from search_game import *\n",
    "\n",
    "fmap = Factory_Map()\n",
    "graph = fmap.get_graph()\n",
    "widget1 = fmap.get_widget1()\n",
    "widget2 = fmap.get_widget2()\n",
    "widget3 = fmap.get_widget3()\n",
    "widget4 = fmap.get_widget4()\n",
    "widget5 = fmap.get_widget5()\n",
    "\n",
    "total_path = ''\n",
    "widgets = [widget1, widget2, widget3, widget4, widget5]\n",
    "frontier = {}\n",
    "\n",
    "while True:\n",
    "    is_empty = True\n",
    "    for widget in widgets:\n",
    "        if not widget.size() == 0:\n",
    "            is_empty = False\n",
    "            factory = widget.peek()\n",
    "            if not factory in frontier:\n",
    "                frontier[factory] = 1\n",
    "            else:\n",
    "                frontier[factory] += 1\n",
    "\n",
    "    sorted_frontier = sorted(frontier.items(), key=operator.itemgetter(1), reverse = True)\n",
    "\n",
    "    print(frontier)\n",
    "    print(sorted_frontier)\n",
    "\n",
    "    next_stop = sorted_frontier[0][0]\n",
    "    total_path = ''\n",
    "\n"
   ]
  },
  {
   "cell_type": "code",
   "execution_count": null,
   "metadata": {
    "collapsed": true
   },
   "outputs": [],
   "source": []
  },
  {
   "cell_type": "code",
   "execution_count": null,
   "metadata": {
    "collapsed": true
   },
   "outputs": [],
   "source": []
  },
  {
   "cell_type": "code",
   "execution_count": null,
   "metadata": {
    "collapsed": true
   },
   "outputs": [],
   "source": []
  }
 ],
 "metadata": {
  "kernelspec": {
   "display_name": "Python 3",
   "language": "python",
   "name": "python3"
  },
  "language_info": {
   "codemirror_mode": {
    "name": "ipython",
    "version": 3
   },
   "file_extension": ".py",
   "mimetype": "text/x-python",
   "name": "python",
   "nbconvert_exporter": "python",
   "pygments_lexer": "ipython3",
   "version": "3.6.3"
  }
 },
 "nbformat": 4,
 "nbformat_minor": 2
}
