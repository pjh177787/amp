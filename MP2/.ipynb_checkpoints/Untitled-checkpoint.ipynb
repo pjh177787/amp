{
 "cells": [
  {
   "cell_type": "code",
   "execution_count": 1,
   "metadata": {},
   "outputs": [
    {
     "name": "stdout",
     "output_type": "stream",
     "text": [
      "118033332019255093230330120010640498090775295034566287114420300945330706133063883646822755228307432550422846654407501566825255664119564969335674438088174706944147902581369345603579286739695286647929530996591239182180870063557997237708250888908436083957325849650363620527069582296691906933940015733241946\n"
     ]
    }
   ],
   "source": [
    "def test(depth, expanded):\n",
    "    if depth == 0:\n",
    "        for i in range(10):\n",
    "            print(expanded)\n",
    "            expanded += 1\n",
    "        return expanded\n",
    "    if depth%2 == 0:\n",
    "        for i in range(10):\n",
    "            r_expanded = test(depth - 1, expanded)\n",
    "            print(expanded)\n",
    "            expanded += r_expanded\n",
    "    else:\n",
    "        for i in range(10):\n",
    "            r_expanded = test(depth - 1, expanded)\n",
    "            print(expanded)\n",
    "            expanded += r_expanded\n",
    "    return expanded + 1\n",
    "\n",
    "print(test(3, 0))"
   ]
  },
  {
   "cell_type": "code",
   "execution_count": null,
   "metadata": {
    "collapsed": true
   },
   "outputs": [],
   "source": []
  }
 ],
 "metadata": {
  "kernelspec": {
   "display_name": "Python 3",
   "language": "python",
   "name": "python3"
  },
  "language_info": {
   "codemirror_mode": {
    "name": "ipython",
    "version": 3
   },
   "file_extension": ".py",
   "mimetype": "text/x-python",
   "name": "python",
   "nbconvert_exporter": "python",
   "pygments_lexer": "ipython3",
   "version": "3.6.3"
  }
 },
 "nbformat": 4,
 "nbformat_minor": 2
}
