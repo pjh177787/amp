{
 "cells": [
  {
   "cell_type": "markdown",
   "metadata": {
    "collapsed": true
   },
   "source": [
    "# Game of Gomoku\n",
    "## Reflex Agent"
   ]
  },
  {
   "cell_type": "code",
   "execution_count": 1,
   "metadata": {
    "scrolled": false
   },
   "outputs": [
    {
     "name": "stdout",
     "output_type": "stream",
     "text": [
      ". . . . . . . \n",
      ". a . . . . . \n",
      ". . . . . . . \n",
      ". . . . . . . \n",
      ". . . . . . . \n",
      ". . . . . A . \n",
      ". . . . . . . \n",
      "\n",
      "b i j l L . . \n",
      "c a g h H . . \n",
      "d E D m . . . \n",
      "f G . C . . . \n",
      "F I K M B . . \n",
      ". J . . . A . \n",
      ". k . . . . e \n",
      "\n",
      "Winner is blue\n"
     ]
    }
   ],
   "source": [
    "from gomoku.board import *\n",
    "from gomoku.reflex import *\n",
    "\n",
    "bd = Board()\n",
    "rf_red = Reflex('red', bd)\n",
    "rf_blue = Reflex('blue', bd)\n",
    "\n",
    "row, col, alfa = rf_red.force_move(1, 1)\n",
    "bd.make_move(row, col, alfa)\n",
    "row, col, alfa = rf_blue.force_move(5, 5)\n",
    "bd.make_move(row, col, alfa)\n",
    "bd.prt()\n",
    "\n",
    "while True:\n",
    "    row, col, alfa = rf_red.find_move()\n",
    "    bd.make_move(row, col, alfa)\n",
    "    winner = bd.check_winner()\n",
    "    if not winner == 'not yet':\n",
    "        break\n",
    "    row, col, alfa = rf_blue.find_move()\n",
    "    bd.make_move(row, col, alfa)\n",
    "    winner = bd.check_winner()\n",
    "    if not winner == 'not yet':\n",
    "        break\n",
    "#     bd.prt()\n",
    "    \n",
    "bd.prt()\n",
    "print('Winner is', winner)\n"
   ]
  },
  {
   "cell_type": "markdown",
   "metadata": {
    "collapsed": true
   },
   "source": [
    "## Minimax Agent"
   ]
  },
  {
   "cell_type": "code",
   "execution_count": 2,
   "metadata": {},
   "outputs": [
    {
     "name": "stdout",
     "output_type": "stream",
     "text": [
      ". . . . . . . \n",
      ". a . . . . . \n",
      ". . . . . . . \n",
      ". . . . . . . \n",
      ". . . . . . . \n",
      ". . . . . A . \n",
      ". . . . . . . \n",
      "\n",
      ". . . . . . . \n",
      "b a . . . . . \n",
      ". . . . . . . \n",
      ". . . . . . . \n",
      ". . . . . . . \n",
      ". . . . B A . \n",
      ". . . . . . . \n",
      "\n",
      ". . . . . . . \n",
      "b a c . . . . \n",
      ". . . . . . . \n",
      ". . . . . . . \n",
      ". . . . . . . \n",
      ". . . C B A . \n",
      ". . . . . . . \n",
      "\n",
      ". . . . . . . \n",
      "b a c d D . . \n",
      ". . . . . . . \n",
      ". . . . . . . \n",
      ". . . . . . . \n",
      ". . . C B A . \n",
      ". . . . . . . \n",
      "\n",
      ". e . . . . . \n",
      "b a c d D . . \n",
      ". . . . . . . \n",
      ". . . . . . . \n",
      ". . . . . . . \n",
      ". . E C B A . \n",
      ". . . . . . . \n",
      "\n",
      ". e . . . . . \n",
      "b a c d D . . \n",
      ". . . . . . . \n",
      ". . . . . . . \n",
      ". . . . . . . \n",
      ". f E C B A F \n",
      ". . . . . . . \n",
      "\n",
      "Winner is blue\n"
     ]
    }
   ],
   "source": [
    "from gomoku.board import *\n",
    "from gomoku.minimax import *\n",
    "\n",
    "bd = Board()\n",
    "rf_red = Minimax('red', bd)\n",
    "rf_blue = Minimax('blue', bd)\n",
    "\n",
    "row, col, alfa = rf_red.force_move(3, 3)\n",
    "bd.make_move(row, col, alfa)\n",
    "row, col, alfa = rf_blue.force_move(4, 2)\n",
    "bd.make_move(row, col, alfa)\n",
    "row, col, alfa = rf_blue.force_move(4, 4)\n",
    "bd.make_move(row, col, alfa)\n",
    "bd.prt()\n",
    "\n",
    "while True:\n",
    "    row, col, alfa = rf_blue.find_move()\n",
    "    bd.make_move(row, col, alfa)\n",
    "    winner = bd.check_winner()\n",
    "    if not winner == 'not yet':\n",
    "        break\n",
    "        \n",
    "    row, col, alfa = rf_red.find_move()\n",
    "    bd.make_move(row, col, alfa)\n",
    "    winner = bd.check_winner()\n",
    "    if not winner == 'not yet':\n",
    "        break\n",
    "    bd.prt()\n",
    "    \n",
    "bd.prt()\n",
    "print('Winner is', winner)"
   ]
  },
  {
   "cell_type": "code",
   "execution_count": null,
   "metadata": {
    "collapsed": true
   },
   "outputs": [],
   "source": []
  }
 ],
 "metadata": {
  "kernelspec": {
   "display_name": "Python 3",
   "language": "python",
   "name": "python3"
  },
  "language_info": {
   "codemirror_mode": {
    "name": "ipython",
    "version": 3
   },
   "file_extension": ".py",
   "mimetype": "text/x-python",
   "name": "python",
   "nbconvert_exporter": "python",
   "pygments_lexer": "ipython3",
   "version": "3.6.3"
  }
 },
 "nbformat": 4,
 "nbformat_minor": 2
}
