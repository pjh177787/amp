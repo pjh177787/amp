{
 "cells": [
  {
   "cell_type": "markdown",
   "metadata": {
    "collapsed": true
   },
   "source": [
    "# Game of Gomoku\n",
    "## Reflex Agent"
   ]
  },
  {
   "cell_type": "code",
   "execution_count": 2,
   "metadata": {
    "scrolled": false
   },
   "outputs": [
    {
     "name": "stdout",
     "output_type": "stream",
     "text": [
      ". . . . . . . \n",
      ". a . . . . . \n",
      ". . . . . . . \n",
      ". . . . . . . \n",
      ". . . . . . . \n",
      ". . . . . A . \n",
      ". . . . . . . \n",
      "\n",
      "b i j l L . . \n",
      "c a g h H . . \n",
      "d E D m . . . \n",
      "f G . C . . . \n",
      "F I K M B . . \n",
      ". J . . . A . \n",
      ". k . . . . e \n",
      "\n",
      "Winner is blue\n"
     ]
    }
   ],
   "source": [
    "from gomoku.board import *\n",
    "from gomoku.reflex import *\n",
    "\n",
    "bd = Board()\n",
    "rf_red = Reflex('red', bd)\n",
    "rf_blue = Reflex('blue', bd)\n",
    "\n",
    "row, col, alfa = rf_red.force_move(1, 1)\n",
    "bd.make_move(row, col, alfa)\n",
    "row, col, alfa = rf_blue.force_move(5, 5)\n",
    "bd.make_move(row, col, alfa)\n",
    "bd.prt()\n",
    "\n",
    "while True:\n",
    "    row, col, alfa = rf_red.find_move()\n",
    "    bd.make_move(row, col, alfa)\n",
    "    winner = bd.check_winner()\n",
    "    if not winner == 'not yet':\n",
    "        break\n",
    "    row, col, alfa = rf_blue.find_move()\n",
    "    bd.make_move(row, col, alfa)\n",
    "    winner = bd.check_winner()\n",
    "    if not winner == 'not yet':\n",
    "        break\n",
    "#     bd.prt()\n",
    "    \n",
    "bd.prt()\n",
    "print('Winner is', winner)\n"
   ]
  },
  {
   "cell_type": "markdown",
   "metadata": {
    "collapsed": true
   },
   "source": [
    "## Minimax Agent"
   ]
  },
  {
   "cell_type": "code",
   "execution_count": 2,
   "metadata": {},
   "outputs": [
    {
     "ename": "NameError",
     "evalue": "name 'Reflex' is not defined",
     "output_type": "error",
     "traceback": [
      "\u001b[1;31m---------------------------------------------------------------------------\u001b[0m",
      "\u001b[1;31mNameError\u001b[0m                                 Traceback (most recent call last)",
      "\u001b[1;32m<ipython-input-2-2de7567f3eab>\u001b[0m in \u001b[0;36m<module>\u001b[1;34m()\u001b[0m\n\u001b[0;32m      3\u001b[0m \u001b[1;33m\u001b[0m\u001b[0m\n\u001b[0;32m      4\u001b[0m \u001b[0mbd\u001b[0m \u001b[1;33m=\u001b[0m \u001b[0mBoard\u001b[0m\u001b[1;33m(\u001b[0m\u001b[1;33m)\u001b[0m\u001b[1;33m\u001b[0m\u001b[0m\n\u001b[1;32m----> 5\u001b[1;33m \u001b[0mrf_red\u001b[0m \u001b[1;33m=\u001b[0m \u001b[0mReflex\u001b[0m\u001b[1;33m(\u001b[0m\u001b[1;34m'red'\u001b[0m\u001b[1;33m,\u001b[0m \u001b[0mbd\u001b[0m\u001b[1;33m)\u001b[0m\u001b[1;33m\u001b[0m\u001b[0m\n\u001b[0m\u001b[0;32m      6\u001b[0m \u001b[0mrf_blue\u001b[0m \u001b[1;33m=\u001b[0m \u001b[0mReflex\u001b[0m\u001b[1;33m(\u001b[0m\u001b[1;34m'blue'\u001b[0m\u001b[1;33m,\u001b[0m \u001b[0mbd\u001b[0m\u001b[1;33m)\u001b[0m\u001b[1;33m\u001b[0m\u001b[0m\n\u001b[0;32m      7\u001b[0m \u001b[1;33m\u001b[0m\u001b[0m\n",
      "\u001b[1;31mNameError\u001b[0m: name 'Reflex' is not defined"
     ]
    }
   ],
   "source": [
    "from gomoku.board import *\n",
    "from gomoku.minimax import *\n",
    "\n",
    "bd = Board()\n",
    "rf_red = Minimax('red', bd)\n",
    "rf_blue = Minimax('blue', bd)\n",
    "\n",
    "row, col, alfa = rf_red.force_move(1, 1)\n",
    "bd.make_move(row, col, alfa)\n",
    "row, col, alfa = rf_blue.force_move(5, 5)\n",
    "bd.make_move(row, col, alfa)\n",
    "bd.prt()\n",
    "\n",
    "while True:\n",
    "    row, col, alfa = rf_red.find_move()\n",
    "    bd.make_move(row, col, alfa)\n",
    "    winner = bd.check_winner()\n",
    "    if not winner == 'not yet':\n",
    "        break\n",
    "    row, col, alfa = rf_blue.find_move()\n",
    "    bd.make_move(row, col, alfa)\n",
    "    winner = bd.check_winner()\n",
    "    if not winner == 'not yet':\n",
    "        break\n",
    "#     bd.prt()\n",
    "    \n",
    "bd.prt()\n",
    "print('Winner is', winner)"
   ]
  },
  {
   "cell_type": "code",
   "execution_count": null,
   "metadata": {
    "collapsed": true
   },
   "outputs": [],
   "source": []
  }
 ],
 "metadata": {
  "kernelspec": {
   "display_name": "Python 3",
   "language": "python",
   "name": "python3"
  }
 },
 "nbformat": 4,
 "nbformat_minor": 2
}
