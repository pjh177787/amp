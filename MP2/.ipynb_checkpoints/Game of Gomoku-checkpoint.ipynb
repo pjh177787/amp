{
 "cells": [
  {
   "cell_type": "markdown",
   "metadata": {
    "collapsed": true
   },
   "source": [
    "# Game of Gomoku\n",
    "## Reflex Agent"
   ]
  },
  {
   "cell_type": "code",
   "execution_count": 1,
   "metadata": {},
   "outputs": [
    {
     "name": "stdout",
     "output_type": "stream",
     "text": [
      ". . . . . . . \n",
      ". a . . . . . \n",
      ". . . . . . . \n",
      ". . . . . . . \n",
      ". . . . . . . \n",
      ". . . . . A . \n",
      ". . . . . . . \n",
      "\n",
      "b . . . . . . \n",
      ". a . . . . . \n",
      ". . . . . . . \n",
      ". . . . . . . \n",
      ". . . . B . . \n",
      ". . . . . A . \n",
      ". . . . . . . \n",
      "\n",
      "b . . . . . . \n",
      "c a . . . . . \n",
      ". . . . . . . \n",
      ". . . C . . . \n",
      ". . . . B . . \n",
      ". . . . . A . \n",
      ". . . . . . . \n",
      "\n",
      "b . . . . . . \n",
      "c a d . . . . \n",
      ". . D . . . . \n",
      ". . . C . . . \n",
      ". . . . B . . \n",
      ". . . . . A . \n",
      ". . . . . . . \n",
      "\n",
      "b . . . . . . \n",
      "c a d . . . . \n",
      ". . D . . . . \n",
      ". . . C . . . \n",
      ". . . . B . . \n",
      ". . E . . A . \n",
      ". . . . . . e \n",
      "\n",
      "b . . . . . . \n",
      "c a d f F . . \n",
      ". . D . . . . \n",
      ". . . C . . . \n",
      ". . . . B . . \n",
      ". . E . . A . \n",
      ". . . . . . e \n",
      "\n"
     ]
    },
    {
     "ename": "IndexError",
     "evalue": "list index out of range",
     "output_type": "error",
     "traceback": [
      "\u001b[1;31m---------------------------------------------------------------------------\u001b[0m",
      "\u001b[1;31mIndexError\u001b[0m                                Traceback (most recent call last)",
      "\u001b[1;32m<ipython-input-1-5d33b868da56>\u001b[0m in \u001b[0;36m<module>\u001b[1;34m()\u001b[0m\n\u001b[0;32m     13\u001b[0m \u001b[1;33m\u001b[0m\u001b[0m\n\u001b[0;32m     14\u001b[0m \u001b[1;32mfor\u001b[0m \u001b[0mi\u001b[0m \u001b[1;32min\u001b[0m \u001b[0mrange\u001b[0m\u001b[1;33m(\u001b[0m\u001b[1;36m10\u001b[0m\u001b[1;33m)\u001b[0m\u001b[1;33m:\u001b[0m\u001b[1;33m\u001b[0m\u001b[0m\n\u001b[1;32m---> 15\u001b[1;33m     \u001b[0mrow\u001b[0m\u001b[1;33m,\u001b[0m \u001b[0mcol\u001b[0m\u001b[1;33m,\u001b[0m \u001b[0malfa\u001b[0m \u001b[1;33m=\u001b[0m \u001b[0mrf_red\u001b[0m\u001b[1;33m.\u001b[0m\u001b[0mfind_move\u001b[0m\u001b[1;33m(\u001b[0m\u001b[0mbd\u001b[0m\u001b[1;33m)\u001b[0m\u001b[1;33m\u001b[0m\u001b[0m\n\u001b[0m\u001b[0;32m     16\u001b[0m     \u001b[0mbd\u001b[0m\u001b[1;33m.\u001b[0m\u001b[0mmake_move\u001b[0m\u001b[1;33m(\u001b[0m\u001b[0mrow\u001b[0m\u001b[1;33m,\u001b[0m \u001b[0mcol\u001b[0m\u001b[1;33m,\u001b[0m \u001b[0malfa\u001b[0m\u001b[1;33m)\u001b[0m\u001b[1;33m\u001b[0m\u001b[0m\n\u001b[0;32m     17\u001b[0m     \u001b[0mrow\u001b[0m\u001b[1;33m,\u001b[0m \u001b[0mcol\u001b[0m\u001b[1;33m,\u001b[0m \u001b[0malfa\u001b[0m \u001b[1;33m=\u001b[0m \u001b[0mrf_blue\u001b[0m\u001b[1;33m.\u001b[0m\u001b[0mfind_move\u001b[0m\u001b[1;33m(\u001b[0m\u001b[0mbd\u001b[0m\u001b[1;33m)\u001b[0m\u001b[1;33m\u001b[0m\u001b[0m\n",
      "\u001b[1;32m~\\Desktop\\amp\\MP2\\gomoku\\reflex.py\u001b[0m in \u001b[0;36mfind_move\u001b[1;34m(self, board)\u001b[0m\n\u001b[0;32m     94\u001b[0m             \u001b[1;32mreturn\u001b[0m \u001b[0mrow\u001b[0m\u001b[1;33m,\u001b[0m \u001b[0mcol\u001b[0m \u001b[1;33m-\u001b[0m \u001b[1;36m1\u001b[0m\u001b[1;33m,\u001b[0m \u001b[0malfa\u001b[0m\u001b[1;33m\u001b[0m\u001b[0m\n\u001b[0;32m     95\u001b[0m \u001b[1;33m\u001b[0m\u001b[0m\n\u001b[1;32m---> 96\u001b[1;33m         \u001b[0mrow\u001b[0m\u001b[1;33m,\u001b[0m \u001b[0mcol\u001b[0m \u001b[1;33m=\u001b[0m \u001b[0mboard\u001b[0m\u001b[1;33m.\u001b[0m\u001b[0mfind_winning_block\u001b[0m\u001b[1;33m(\u001b[0m\u001b[0mself\u001b[0m\u001b[1;33m.\u001b[0m\u001b[0mplayer\u001b[0m\u001b[1;33m)\u001b[0m\u001b[1;33m\u001b[0m\u001b[0m\n\u001b[0m\u001b[0;32m     97\u001b[0m         \u001b[1;32mreturn\u001b[0m \u001b[0mrow\u001b[0m\u001b[1;33m,\u001b[0m \u001b[0mcol\u001b[0m\u001b[1;33m,\u001b[0m \u001b[0malfa\u001b[0m\u001b[1;33m\u001b[0m\u001b[0m\n\u001b[0;32m     98\u001b[0m \u001b[1;33m\u001b[0m\u001b[0m\n",
      "\u001b[1;32m~\\Desktop\\amp\\MP2\\gomoku\\board.py\u001b[0m in \u001b[0;36mfind_winning_block\u001b[1;34m(self, player)\u001b[0m\n\u001b[0;32m    308\u001b[0m         \u001b[1;31m# print(r2l_wb_list)\u001b[0m\u001b[1;33m\u001b[0m\u001b[1;33m\u001b[0m\u001b[0m\n\u001b[0;32m    309\u001b[0m \u001b[1;33m\u001b[0m\u001b[0m\n\u001b[1;32m--> 310\u001b[1;33m         \u001b[0mmax_wb_list\u001b[0m \u001b[1;33m=\u001b[0m \u001b[0mmax\u001b[0m\u001b[1;33m(\u001b[0m\u001b[0mrow_wb_list\u001b[0m\u001b[1;33m[\u001b[0m\u001b[1;36m0\u001b[0m\u001b[1;33m]\u001b[0m\u001b[1;33m[\u001b[0m\u001b[1;36m0\u001b[0m\u001b[1;33m]\u001b[0m\u001b[1;33m,\u001b[0m \u001b[0mcol_wb_list\u001b[0m\u001b[1;33m[\u001b[0m\u001b[1;36m0\u001b[0m\u001b[1;33m]\u001b[0m\u001b[1;33m[\u001b[0m\u001b[1;36m0\u001b[0m\u001b[1;33m]\u001b[0m\u001b[1;33m,\u001b[0m \u001b[0ml2r_wb_list\u001b[0m\u001b[1;33m[\u001b[0m\u001b[1;36m0\u001b[0m\u001b[1;33m]\u001b[0m\u001b[1;33m[\u001b[0m\u001b[1;36m0\u001b[0m\u001b[1;33m]\u001b[0m\u001b[1;33m,\u001b[0m \u001b[0mr2l_wb_list\u001b[0m\u001b[1;33m[\u001b[0m\u001b[1;36m0\u001b[0m\u001b[1;33m]\u001b[0m\u001b[1;33m[\u001b[0m\u001b[1;36m0\u001b[0m\u001b[1;33m]\u001b[0m\u001b[1;33m)\u001b[0m\u001b[1;33m\u001b[0m\u001b[0m\n\u001b[0m\u001b[0;32m    311\u001b[0m \u001b[1;33m\u001b[0m\u001b[0m\n\u001b[0;32m    312\u001b[0m         \u001b[1;32mif\u001b[0m \u001b[0ml2r_wb_list\u001b[0m\u001b[1;33m[\u001b[0m\u001b[1;36m0\u001b[0m\u001b[1;33m]\u001b[0m\u001b[1;33m[\u001b[0m\u001b[1;36m0\u001b[0m\u001b[1;33m]\u001b[0m \u001b[1;33m==\u001b[0m \u001b[0mmax_wb_list\u001b[0m\u001b[1;33m:\u001b[0m\u001b[1;33m\u001b[0m\u001b[0m\n",
      "\u001b[1;31mIndexError\u001b[0m: list index out of range"
     ]
    }
   ],
   "source": [
    "from gomoku.board import *\n",
    "from gomoku.reflex import *\n",
    "\n",
    "bd = Board()\n",
    "rf_red = Reflex('red')\n",
    "rf_blue = Reflex('blue')\n",
    "\n",
    "row, col, alfa = rf_red.force_move(1, 1)\n",
    "bd.make_move(row, col, alfa)\n",
    "row, col, alfa = rf_blue.force_move(5, 5)\n",
    "bd.make_move(row, col, alfa)\n",
    "bd.prt()\n",
    "\n",
    "for i in range(10):\n",
    "    row, col, alfa = rf_red.find_move(bd)\n",
    "    bd.make_move(row, col, alfa)\n",
    "    winner = bd.check_winner()\n",
    "    if not winner == 'not yet':\n",
    "        break\n",
    "    row, col, alfa = rf_blue.find_move(bd)\n",
    "    bd.make_move(row, col, alfa)\n",
    "    winner = bd.check_winner()\n",
    "    if not winner == 'not yet':\n",
    "        break\n",
    "    bd.prt()\n",
    "    \n",
    "bd.prt()\n",
    "print('Winner is ', winner)\n"
   ]
  },
  {
   "cell_type": "code",
   "execution_count": null,
   "metadata": {
    "collapsed": true
   },
   "outputs": [],
   "source": []
  }
 ],
 "metadata": {
  "kernelspec": {
   "display_name": "Python 3",
   "language": "python",
   "name": "python3"
  }
 },
 "nbformat": 4,
 "nbformat_minor": 2
}
