{
 "cells": [
  {
   "cell_type": "code",
   "execution_count": 1,
   "metadata": {},
   "outputs": [
    {
     "name": "stdout",
     "output_type": "stream",
     "text": [
      ". . . . . . . \n",
      ". . . . . . . \n",
      ". . . x x x x \n",
      ". . . . . x . \n",
      ". . . . . x . \n",
      ". . . . . x . \n",
      ". . . . . . . \n",
      "['.' '.' '.' '.'] 0 0\n",
      "['.' '.' '.' '.'] 0 1\n",
      "['.' '.' '.' '.'] 0 2\n",
      "['.' '.' '.' '.'] 0 3\n",
      "['.' '.' '.' '.'] 1 0\n",
      "['.' '.' '.' '.'] 1 1\n",
      "['.' '.' '.' '.'] 1 2\n",
      "['.' '.' '.' '.'] 1 3\n",
      "['.' '.' '.' 'x'] 2 0\n",
      "['.' '.' 'x' 'x'] 2 1\n",
      "['.' 'x' 'x' 'x'] 2 2\n",
      "['x' 'x' 'x' 'x'] 2 3\n",
      "(2, 3)\n",
      "(2, 5)\n"
     ]
    }
   ],
   "source": [
    "from gomoku.board import *\n",
    "from gomoku.reflex import *\n",
    "\n",
    "bd = Board()\n",
    "\n",
    "p1 = 'x'\n",
    "p2 = 'o'\n",
    "\n",
    "bd.make_move(p1, 2, 3)\n",
    "bd.make_move(p1, 2, 4)\n",
    "bd.make_move(p1, 2, 5)\n",
    "bd.make_move(p1, 2, 6)\n",
    "bd.make_move(p1, 3, 5)\n",
    "bd.make_move(p1, 4, 5)\n",
    "bd.make_move(p1, 5, 5)\n",
    "bd.prt()\n",
    "\n",
    "print(bd.row_has_four(p1))\n",
    "print(bd.col_has_four(p1))"
   ]
  },
  {
   "cell_type": "code",
   "execution_count": null,
   "metadata": {
    "collapsed": true
   },
   "outputs": [],
   "source": []
  },
  {
   "cell_type": "code",
   "execution_count": null,
   "metadata": {
    "collapsed": true
   },
   "outputs": [],
   "source": []
  }
 ],
 "metadata": {
  "kernelspec": {
   "display_name": "Python 3",
   "language": "python",
   "name": "python3"
  },
  "language_info": {
   "codemirror_mode": {
    "name": "ipython",
    "version": 3
   },
   "file_extension": ".py",
   "mimetype": "text/x-python",
   "name": "python",
   "nbconvert_exporter": "python",
   "pygments_lexer": "ipython3",
   "version": "3.6.3"
  }
 },
 "nbformat": 4,
 "nbformat_minor": 2
}
