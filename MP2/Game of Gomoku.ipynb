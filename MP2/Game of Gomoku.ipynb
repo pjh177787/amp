{
 "cells": [
  {
   "cell_type": "markdown",
   "metadata": {
    "collapsed": true
   },
   "source": [
    "# Game of Gomoku\n",
    "## Reflex Agent"
   ]
  },
  {
   "cell_type": "code",
   "execution_count": 1,
   "metadata": {},
   "outputs": [
    {
     "name": "stdout",
     "output_type": "stream",
     "text": [
      ". . . . . . . \n",
      ". . . . . . . \n",
      ". . . x . . . \n",
      ". . . x . . . \n",
      ". . . x . . . \n",
      ". . . . . . . \n",
      ". . . . . . . \n",
      "Not found\n",
      "Not found\n",
      "Not found\n",
      "Not found\n",
      "Not found\n",
      "Not found\n",
      "Not found\n",
      "Not found\n",
      "Not found\n",
      "(5, 3)\n"
     ]
    }
   ],
   "source": [
    "from gomoku.board import *\n",
    "from gomoku.reflex import *\n",
    "\n",
    "bd = Board()\n",
    "rf = Reflex()\n",
    "\n",
    "p1 = 'x'\n",
    "p2 = 'o'\n",
    "\n",
    "bd.make_move(p1, 2, 3)\n",
    "bd.make_move(p1, 3, 3)\n",
    "bd.make_move(p1, 4, 3)\n",
    "\n",
    "bd.prt()\n",
    "\n",
    "print(rf.find_move(bd, p2))"
   ]
  },
  {
   "cell_type": "code",
   "execution_count": null,
   "metadata": {
    "collapsed": true
   },
   "outputs": [],
   "source": []
  }
 ],
 "metadata": {
  "kernelspec": {
   "display_name": "Python 3",
   "language": "python",
   "name": "python3"
  },
  "language_info": {
   "codemirror_mode": {
    "name": "ipython",
    "version": 3
   },
   "file_extension": ".py",
   "mimetype": "text/x-python",
   "name": "python",
   "nbconvert_exporter": "python",
   "pygments_lexer": "ipython3",
   "version": "3.6.3"
  }
 },
 "nbformat": 4,
 "nbformat_minor": 2
}
