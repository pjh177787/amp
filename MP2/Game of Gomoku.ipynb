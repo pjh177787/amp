{
 "cells": [
  {
   "cell_type": "markdown",
   "metadata": {
    "collapsed": true
   },
   "source": [
    "# Game of Gomoku\n",
    "## Reflex Agent"
   ]
  },
  {
   "cell_type": "code",
   "execution_count": 1,
   "metadata": {},
   "outputs": [
    {
     "name": "stdout",
     "output_type": "stream",
     "text": [
      ". . . . . . . \n",
      ". a . . . . . \n",
      ". . . . . . . \n",
      ". . . . . . . \n",
      ". . . . . . . \n",
      ". . . . . A . \n",
      ". . . . . . . \n",
      "\n",
      ". . . . . . . \n",
      "b a . . . . . \n",
      ". . . . . . . \n",
      ". . . . . . . \n",
      ". . . . . . . \n",
      ". . B . . A . \n",
      ". . . . . . . \n",
      "\n",
      ". . . . . . . \n",
      "b a c . . . . \n",
      ". . . . . . . \n",
      ". . . . . . . \n",
      ". . . . . . . \n",
      ". C B . . A . \n",
      ". . . . . . . \n",
      "\n",
      ". . . . . . . \n",
      "b a c d D . . \n",
      ". . . . . . . \n",
      ". . . . . . . \n",
      ". . . . . . . \n",
      ". C B . . A . \n",
      ". . . . . . . \n",
      "\n",
      ". . . e . . . \n",
      "b a c d D . . \n",
      ". . . . . . . \n",
      ". . . . . . . \n",
      ". . . . . . . \n",
      "E C B . . A . \n",
      ". . . . . . . \n",
      "\n",
      ". . . e . . . \n",
      "b a c d D . . \n",
      ". . . f . . . \n",
      ". . . . . . . \n",
      ". . . . . . . \n",
      "E C B F . A . \n",
      ". . . . . . . \n",
      "\n",
      ". . . e . . . \n",
      "b a c d D . . \n",
      ". . . f . G . \n",
      ". . . . . . . \n",
      ". . . . . . . \n",
      "E C B F g A . \n",
      ". . . . . . . \n",
      "\n",
      ". . . e . . . \n",
      "b a c d D H . \n",
      ". . . f . G . \n",
      ". . . h . . . \n",
      ". . . . . . . \n",
      "E C B F g A . \n",
      ". . . . . . . \n",
      "\n",
      ". . . e . I . \n",
      "b a c d D H . \n",
      ". . . f . G . \n",
      ". . . h . . . \n",
      ". . . i . . . \n",
      "E C B F g A . \n",
      ". . . . . . . \n",
      "\n"
     ]
    },
    {
     "ename": "TypeError",
     "evalue": "'NoneType' object is not iterable",
     "output_type": "error",
     "traceback": [
      "\u001b[0;31m---------------------------------------------------------------------------\u001b[0m",
      "\u001b[0;31mTypeError\u001b[0m                                 Traceback (most recent call last)",
      "\u001b[0;32m<ipython-input-1-5d33b868da56>\u001b[0m in \u001b[0;36m<module>\u001b[0;34m()\u001b[0m\n\u001b[1;32m     13\u001b[0m \u001b[0;34m\u001b[0m\u001b[0m\n\u001b[1;32m     14\u001b[0m \u001b[0;32mfor\u001b[0m \u001b[0mi\u001b[0m \u001b[0;32min\u001b[0m \u001b[0mrange\u001b[0m\u001b[0;34m(\u001b[0m\u001b[0;36m10\u001b[0m\u001b[0;34m)\u001b[0m\u001b[0;34m:\u001b[0m\u001b[0;34m\u001b[0m\u001b[0m\n\u001b[0;32m---> 15\u001b[0;31m     \u001b[0mrow\u001b[0m\u001b[0;34m,\u001b[0m \u001b[0mcol\u001b[0m\u001b[0;34m,\u001b[0m \u001b[0malfa\u001b[0m \u001b[0;34m=\u001b[0m \u001b[0mrf_red\u001b[0m\u001b[0;34m.\u001b[0m\u001b[0mfind_move\u001b[0m\u001b[0;34m(\u001b[0m\u001b[0mbd\u001b[0m\u001b[0;34m)\u001b[0m\u001b[0;34m\u001b[0m\u001b[0m\n\u001b[0m\u001b[1;32m     16\u001b[0m     \u001b[0mbd\u001b[0m\u001b[0;34m.\u001b[0m\u001b[0mmake_move\u001b[0m\u001b[0;34m(\u001b[0m\u001b[0mrow\u001b[0m\u001b[0;34m,\u001b[0m \u001b[0mcol\u001b[0m\u001b[0;34m,\u001b[0m \u001b[0malfa\u001b[0m\u001b[0;34m)\u001b[0m\u001b[0;34m\u001b[0m\u001b[0m\n\u001b[1;32m     17\u001b[0m     \u001b[0mrow\u001b[0m\u001b[0;34m,\u001b[0m \u001b[0mcol\u001b[0m\u001b[0;34m,\u001b[0m \u001b[0malfa\u001b[0m \u001b[0;34m=\u001b[0m \u001b[0mrf_blue\u001b[0m\u001b[0;34m.\u001b[0m\u001b[0mfind_move\u001b[0m\u001b[0;34m(\u001b[0m\u001b[0mbd\u001b[0m\u001b[0;34m)\u001b[0m\u001b[0;34m\u001b[0m\u001b[0m\n",
      "\u001b[0;32m~/Dropbox/Code/amp/MP2/gomoku/reflex.py\u001b[0m in \u001b[0;36mfind_move\u001b[0;34m(self, board)\u001b[0m\n\u001b[1;32m     94\u001b[0m             \u001b[0;32mreturn\u001b[0m \u001b[0mrow\u001b[0m\u001b[0;34m,\u001b[0m \u001b[0mcol\u001b[0m \u001b[0;34m-\u001b[0m \u001b[0;36m1\u001b[0m\u001b[0;34m,\u001b[0m \u001b[0malfa\u001b[0m\u001b[0;34m\u001b[0m\u001b[0m\n\u001b[1;32m     95\u001b[0m \u001b[0;34m\u001b[0m\u001b[0m\n\u001b[0;32m---> 96\u001b[0;31m         \u001b[0mrow\u001b[0m\u001b[0;34m,\u001b[0m \u001b[0mcol\u001b[0m \u001b[0;34m=\u001b[0m \u001b[0mboard\u001b[0m\u001b[0;34m.\u001b[0m\u001b[0mfind_winning_block\u001b[0m\u001b[0;34m(\u001b[0m\u001b[0mself\u001b[0m\u001b[0;34m.\u001b[0m\u001b[0mplayer\u001b[0m\u001b[0;34m)\u001b[0m\u001b[0;34m\u001b[0m\u001b[0m\n\u001b[0m\u001b[1;32m     97\u001b[0m         \u001b[0;32mreturn\u001b[0m \u001b[0mrow\u001b[0m\u001b[0;34m,\u001b[0m \u001b[0mcol\u001b[0m\u001b[0;34m,\u001b[0m \u001b[0malfa\u001b[0m\u001b[0;34m\u001b[0m\u001b[0m\n\u001b[1;32m     98\u001b[0m \u001b[0;34m\u001b[0m\u001b[0m\n",
      "\u001b[0;31mTypeError\u001b[0m: 'NoneType' object is not iterable"
     ]
    }
   ],
   "source": [
    "from gomoku.board import *\n",
    "from gomoku.reflex import *\n",
    "\n",
    "bd = Board()\n",
    "rf_red = Reflex('red')\n",
    "rf_blue = Reflex('blue')\n",
    "\n",
    "row, col, alfa = rf_red.force_move(1, 1)\n",
    "bd.make_move(row, col, alfa)\n",
    "row, col, alfa = rf_blue.force_move(5, 5)\n",
    "bd.make_move(row, col, alfa)\n",
    "bd.prt()\n",
    "\n",
    "for i in range(10):\n",
    "    row, col, alfa = rf_red.find_move(bd)\n",
    "    bd.make_move(row, col, alfa)\n",
    "    row, col, alfa = rf_blue.find_move(bd)\n",
    "    bd.make_move(row, col, alfa)\n",
    "    bd.prt()\n"
   ]
  },
  {
   "cell_type": "code",
   "execution_count": null,
   "metadata": {
    "collapsed": true
   },
   "outputs": [],
   "source": []
  }
 ],
 "metadata": {
  "kernelspec": {
   "display_name": "Python 3",
   "language": "python",
   "name": "python3"
  },
  "language_info": {
   "codemirror_mode": {
    "name": "ipython",
    "version": 3
   },
   "file_extension": ".py",
   "mimetype": "text/x-python",
   "name": "python",
   "nbconvert_exporter": "python",
   "pygments_lexer": "ipython3",
   "version": "3.6.3"
  }
 },
 "nbformat": 4,
 "nbformat_minor": 2
}
