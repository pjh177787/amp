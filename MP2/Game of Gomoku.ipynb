{
 "cells": [
  {
   "cell_type": "markdown",
   "metadata": {
    "collapsed": true
   },
   "source": [
    "# Game of Gomoku\n",
    "## Reflex Agent"
   ]
  },
  {
   "cell_type": "code",
   "execution_count": 1,
   "metadata": {
    "scrolled": false
   },
   "outputs": [
    {
     "name": "stdout",
     "output_type": "stream",
     "text": [
      ". . . . . . . \n",
      ". a . . . . . \n",
      ". . . . . . . \n",
      ". . . . . . . \n",
      ". . . . . . . \n",
      ". . . . . A . \n",
      ". . . . . . . \n",
      "\n",
      "b i j l L . . \n",
      "c a g h H . . \n",
      "d E D m . . . \n",
      "f G . C . . . \n",
      "F I K M B . . \n",
      ". J . . . A . \n",
      ". k . . . . e \n",
      "\n",
      "Winner is blue\n"
     ]
    }
   ],
   "source": [
    "from gomoku.board import *\n",
    "from gomoku.reflex import *\n",
    "\n",
    "bd = Board()\n",
    "rf_red = Reflex('red', bd)\n",
    "rf_blue = Reflex('blue', bd)\n",
    "\n",
    "row, col, alfa = rf_red.force_move(1, 1)\n",
    "bd.make_move(row, col, alfa)\n",
    "row, col, alfa = rf_blue.force_move(5, 5)\n",
    "bd.make_move(row, col, alfa)\n",
    "bd.prt()\n",
    "\n",
    "while True:\n",
    "    row, col, alfa = rf_red.find_move()\n",
    "    bd.make_move(row, col, alfa)\n",
    "    winner = bd.check_winner()\n",
    "    if not winner == 'not yet':\n",
    "        break\n",
    "    row, col, alfa = rf_blue.find_move()\n",
    "    bd.make_move(row, col, alfa)\n",
    "    winner = bd.check_winner()\n",
    "    if not winner == 'not yet':\n",
    "        break\n",
    "#     bd.prt()\n",
    "    \n",
    "bd.prt()\n",
    "print('Winner is', winner)\n"
   ]
  },
  {
   "cell_type": "markdown",
   "metadata": {
    "collapsed": true
   },
   "source": [
    "## Minimax Agent"
   ]
  },
  {
   "cell_type": "code",
   "execution_count": 1,
   "metadata": {},
   "outputs": [
    {
     "name": "stdout",
     "output_type": "stream",
     "text": [
      ". . . . . . . \n",
      ". a . . . . . \n",
      ". . . . . . . \n",
      ". . . . . . . \n",
      ". . . . . . . \n",
      ". . . . . A . \n",
      ". . . . . . . \n",
      "\n"
     ]
    },
    {
     "ename": "TypeError",
     "evalue": "minimax() takes 2 positional arguments but 3 were given",
     "output_type": "error",
     "traceback": [
      "\u001b[1;31m---------------------------------------------------------------------------\u001b[0m",
      "\u001b[1;31mTypeError\u001b[0m                                 Traceback (most recent call last)",
      "\u001b[1;32m<ipython-input-1-f1a65335f3a8>\u001b[0m in \u001b[0;36m<module>\u001b[1;34m()\u001b[0m\n\u001b[0;32m     13\u001b[0m \u001b[1;33m\u001b[0m\u001b[0m\n\u001b[0;32m     14\u001b[0m \u001b[1;32mwhile\u001b[0m \u001b[1;32mTrue\u001b[0m\u001b[1;33m:\u001b[0m\u001b[1;33m\u001b[0m\u001b[0m\n\u001b[1;32m---> 15\u001b[1;33m     \u001b[0mrow\u001b[0m\u001b[1;33m,\u001b[0m \u001b[0mcol\u001b[0m\u001b[1;33m,\u001b[0m \u001b[0malfa\u001b[0m \u001b[1;33m=\u001b[0m \u001b[0mrf_red\u001b[0m\u001b[1;33m.\u001b[0m\u001b[0mfind_move\u001b[0m\u001b[1;33m(\u001b[0m\u001b[1;33m)\u001b[0m\u001b[1;33m\u001b[0m\u001b[0m\n\u001b[0m\u001b[0;32m     16\u001b[0m     \u001b[0mbd\u001b[0m\u001b[1;33m.\u001b[0m\u001b[0mmake_move\u001b[0m\u001b[1;33m(\u001b[0m\u001b[0mrow\u001b[0m\u001b[1;33m,\u001b[0m \u001b[0mcol\u001b[0m\u001b[1;33m,\u001b[0m \u001b[0malfa\u001b[0m\u001b[1;33m)\u001b[0m\u001b[1;33m\u001b[0m\u001b[0m\n\u001b[0;32m     17\u001b[0m     \u001b[0mwinner\u001b[0m \u001b[1;33m=\u001b[0m \u001b[0mbd\u001b[0m\u001b[1;33m.\u001b[0m\u001b[0mcheck_winner\u001b[0m\u001b[1;33m(\u001b[0m\u001b[1;33m)\u001b[0m\u001b[1;33m\u001b[0m\u001b[0m\n",
      "\u001b[1;32m~\\Desktop\\amp\\MP2\\gomoku\\minimax.py\u001b[0m in \u001b[0;36mfind_move\u001b[1;34m(self)\u001b[0m\n\u001b[0;32m     46\u001b[0m \u001b[1;33m\u001b[0m\u001b[0m\n\u001b[0;32m     47\u001b[0m         \u001b[0mnew_bd\u001b[0m \u001b[1;33m=\u001b[0m \u001b[0mdeepcopy\u001b[0m\u001b[1;33m(\u001b[0m\u001b[0mself\u001b[0m\u001b[1;33m.\u001b[0m\u001b[0mbd\u001b[0m\u001b[1;33m)\u001b[0m\u001b[1;33m\u001b[0m\u001b[0m\n\u001b[1;32m---> 48\u001b[1;33m         \u001b[0mnext_move\u001b[0m \u001b[1;33m=\u001b[0m \u001b[0mself\u001b[0m\u001b[1;33m.\u001b[0m\u001b[0mminimax\u001b[0m\u001b[1;33m(\u001b[0m\u001b[1;36m2\u001b[0m\u001b[1;33m,\u001b[0m \u001b[0mnew_bd\u001b[0m\u001b[1;33m)\u001b[0m\u001b[1;33m\u001b[0m\u001b[0m\n\u001b[0m\u001b[0;32m     49\u001b[0m \u001b[1;33m\u001b[0m\u001b[0m\n\u001b[0;32m     50\u001b[0m         \u001b[1;32mif\u001b[0m \u001b[0mnext_move\u001b[0m \u001b[1;33m==\u001b[0m \u001b[1;33m(\u001b[0m\u001b[1;33m-\u001b[0m\u001b[1;36m1\u001b[0m\u001b[1;33m,\u001b[0m \u001b[1;33m-\u001b[0m\u001b[1;36m1\u001b[0m\u001b[1;33m)\u001b[0m\u001b[1;33m:\u001b[0m\u001b[1;33m\u001b[0m\u001b[0m\n",
      "\u001b[1;31mTypeError\u001b[0m: minimax() takes 2 positional arguments but 3 were given"
     ]
    }
   ],
   "source": [
    "from gomoku.board import *\n",
    "from gomoku.minimax import *\n",
    "\n",
    "bd = Board()\n",
    "rf_red = Minimax('red', bd)\n",
    "rf_blue = Minimax('blue', bd)\n",
    "\n",
    "row, col, alfa = rf_red.force_move(1, 1)\n",
    "bd.make_move(row, col, alfa)\n",
    "row, col, alfa = rf_blue.force_move(5, 5)\n",
    "bd.make_move(row, col, alfa)\n",
    "bd.prt()\n",
    "\n",
    "while True:\n",
    "    row, col, alfa = rf_red.find_move()\n",
    "    bd.make_move(row, col, alfa)\n",
    "    winner = bd.check_winner()\n",
    "    if not winner == 'not yet':\n",
    "        break\n",
    "    row, col, alfa = rf_blue.find_move()\n",
    "    bd.make_move(row, col, alfa)\n",
    "    winner = bd.check_winner()\n",
    "    if not winner == 'not yet':\n",
    "        break\n",
    "#     bd.prt()\n",
    "    \n",
    "bd.prt()\n",
    "print('Winner is', winner)"
   ]
  },
  {
   "cell_type": "code",
   "execution_count": null,
   "metadata": {
    "collapsed": true
   },
   "outputs": [],
   "source": []
  }
 ],
 "metadata": {
  "kernelspec": {
   "display_name": "Python 3",
   "language": "python",
   "name": "python3"
  }
 },
 "nbformat": 4,
 "nbformat_minor": 2
}
