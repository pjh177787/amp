{
 "cells": [
  {
   "cell_type": "markdown",
   "metadata": {},
   "source": [
    "# Part 1: Smart Manufacturing\n",
    "## 1.1 Planning Using A* Search"
   ]
  },
  {
   "cell_type": "code",
   "execution_count": 14,
   "metadata": {
    "collapsed": true
   },
   "outputs": [],
   "source": [
    "from search import *\n",
    "\n",
    "def heuristic_step(f, widgets, cost):\n",
    "    count = 0\n",
    "    for widget in widgets:\n",
    "        depth = fmap.get_len(widget)\n",
    "        for i in range(depth):\n",
    "            factory = widget.pop()\n",
    "            if factory == f:\n",
    "                count += 1\n",
    "            widget.push(factory)\n",
    "    return cost + count\n",
    "        \n",
    "def heuristic_dist(f, widgets, cost):\n",
    "    frontier = fmap.get_frontier(widgets)\n",
    "    total = 0\n",
    "    count = 0\n",
    "    for factory in frontier:\n",
    "        if not factory == f:\n",
    "            total += fmap.get_dist(f, factory)\n",
    "            count += 1\n",
    "    adist = total/count\n",
    "        \n",
    "    max_depth = 0\n",
    "    for widget in widgets:\n",
    "        depth = fmap.get_len(widget)\n",
    "        if depth > max_depth:\n",
    "            max_depth = depth\n",
    "            \n",
    "    return cost + adist*max_depth\n",
    "\n",
    "fmap = Factory_Map()\n",
    "graph = fmap.get_graph()\n",
    "widget1 = fmap.get_widget1()\n",
    "widget2 = fmap.get_widget2()\n",
    "widget3 = fmap.get_widget3()\n",
    "widget4 = fmap.get_widget4()\n",
    "widget5 = fmap.get_widget5()\n",
    "\n",
    "total_path = ''\n",
    "widgets = [widget1, widget2, widget3, widget4, widget5]"
   ]
  },
  {
   "cell_type": "markdown",
   "metadata": {
    "collapsed": true
   },
   "source": [
    "## Shortest Dist"
   ]
  },
  {
   "cell_type": "code",
   "execution_count": 15,
   "metadata": {},
   "outputs": [
    {
     "name": "stdout",
     "output_type": "stream",
     "text": [
      "A -> B : (614, 'EB')\n",
      "A -> C : (673, 'C')\n",
      "A -> D : (664, 'ED')\n",
      "A -> E : (277, 'E')\n",
      "B -> A : (614, 'EA')\n",
      "B -> C : (736, 'EC')\n",
      "B -> D : (724, 'ED')\n",
      "B -> E : (337, 'E')\n",
      "C -> A : (673, 'A')\n",
      "C -> B : (736, 'EB')\n",
      "C -> D : (786, 'ED')\n",
      "C -> E : (399, 'E')\n",
      "D -> A : (664, 'EA')\n",
      "D -> B : (724, 'EB')\n",
      "D -> C : (786, 'EC')\n",
      "D -> E : (387, 'E')\n",
      "E -> A : (277, 'A')\n",
      "E -> B : (337, 'B')\n",
      "E -> C : (399, 'C')\n",
      "E -> D : (387, 'D')\n"
     ]
    }
   ],
   "source": [
    "for start in fmap.get_factorys():\n",
    "    for goal in fmap.get_factorys():\n",
    "        if start == goal:\n",
    "            continue\n",
    "        print(start, '->', goal, ':', fmap.get_dist(start, goal))"
   ]
  },
  {
   "cell_type": "code",
   "execution_count": 16,
   "metadata": {},
   "outputs": [
    {
     "name": "stdout",
     "output_type": "stream",
     "text": [
      "B\n",
      "BE\n",
      "BEA\n",
      "BEAE\n",
      "BEAEB\n",
      "BEAEBD\n",
      "BEAEBDA\n",
      "BEAEBDAD\n",
      "BEAEBDADB\n",
      "BEAEBDADBD\n",
      "BEAEBDADBDC\n",
      "BEAEBDADBDCE\n",
      "BEAEBDADBDCEA\n",
      "BEAEBDADBDCEAB\n",
      "BEAEBDADBDCEABD\n",
      "BEAEBDADBDCEABDD\n",
      "BEAEBDADBDCEABDD 7528\n"
     ]
    }
   ],
   "source": [
    "pr_queue = []\n",
    "heappush(pr_queue, (0, 'B', 'B'))\n",
    "frontier = ['B']\n",
    "is_empty = False\n",
    "while True:\n",
    "    cost, path, current = heappop(pr_queue)\n",
    "    print(path)\n",
    "    frontier.remove(current)\n",
    "    is_empty = True\n",
    "    for widget in widgets:\n",
    "        if not widget.size() == 0:\n",
    "            is_empty = False\n",
    "            if widget.peek() == current:\n",
    "                widget.pop()\n",
    "            if not widget.size() == 0:\n",
    "                factory = widget.peek()\n",
    "            if factory in frontier:\n",
    "                pass\n",
    "            else:\n",
    "                frontier.append(factory)\n",
    "    if is_empty:\n",
    "        break\n",
    "    pr_queue = []\n",
    "    for next_stop in frontier:\n",
    "        dist_tp = fmap.get_dist(current, next_stop)\n",
    "        heappush(pr_queue, (cost + dist_tp[0], path + next_stop, next_stop))\n",
    "print(path, cost)\n",
    "                \n",
    "                "
   ]
  },
  {
   "cell_type": "markdown",
   "metadata": {
    "collapsed": true
   },
   "source": [
    "## Silly\n"
   ]
  },
  {
   "cell_type": "code",
   "execution_count": 4,
   "metadata": {},
   "outputs": [
    {
     "name": "stdout",
     "output_type": "stream",
     "text": [
      "BEAEDCADBDCE\n",
      "337\n",
      "614\n",
      "891\n",
      "1278\n",
      "2064\n",
      "2737\n",
      "3401\n",
      "4125\n",
      "4849\n",
      "5635\n",
      "6034\n"
     ]
    }
   ],
   "source": [
    "cost = 0\n",
    "while True:\n",
    "    frontier = {}\n",
    "    is_empty = True\n",
    "    for widget in widgets:\n",
    "        # print(widget.to_string(), '  size = ', widget.size())\n",
    "        if not widget.size() == 0:\n",
    "            is_empty = False\n",
    "            factory = widget.peek()\n",
    "            if not factory in frontier:\n",
    "                frontier[factory] = 1\n",
    "            else:\n",
    "                frontier[factory] += 1\n",
    "    if is_empty:\n",
    "        break\n",
    "\n",
    "#     for maybe_next in frontier.keys():\n",
    "#         next_frontier = {}\n",
    "#         next_widgets = deepcopy(widgets)\n",
    "#         for widget in next_widgets:\n",
    "#             if not widget.size() == 0:\n",
    "#                 next_o_next = widget.peek()\n",
    "#                 if next_o_next == maybe_next:\n",
    "#                     widget.pop()\n",
    "#                 if not next_o_next in next_frontier:\n",
    "#                     next_frontier[next_o_next] = 1\n",
    "#                 else:\n",
    "#                     next_frontier[next_o_next] += 1\n",
    "#         sorted_next_frontier = sorted(next_frontier.items(), key=operator.itemgetter(1), reverse = True)\n",
    "#         next_o_next_c = sorted_next_frontier[0][1]\n",
    "#         frontier[maybe_next] += next_o_next_c\n",
    "        \n",
    "    sorted_frontier = sorted(frontier.items(), key=operator.itemgetter(1), reverse = True)\n",
    "    next_stop = sorted_frontier[0][0]\n",
    "    if 'E' in frontier.keys():\n",
    "           next_stop = 'E' \n",
    "    total_path += next_stop\n",
    "    \n",
    "    for widget in widgets:\n",
    "        if not widget.size() == 0:\n",
    "            if widget.peek() == next_stop:\n",
    "                widget.pop()\n",
    "\n",
    "print(total_path)\n",
    "\n",
    "total_dist = 0\n",
    "for i in range(1, len(total_path)):\n",
    "    start = total_path[i-1]\n",
    "    goal = total_path[i]\n",
    "    dist = fmap.get_dist(start, goal)\n",
    "    total_dist += dist[0]\n",
    "    print(total_dist)\n"
   ]
  },
  {
   "cell_type": "code",
   "execution_count": 5,
   "metadata": {
    "collapsed": true
   },
   "outputs": [],
   "source": [
    "#     for direction, neighbor in new_frontier.keys():\n",
    "#         new_cost = fmap.get_dist(current, neighbor)\n",
    "#         heappush(pr_queue, (cost + heuristic(f, new_frontier, new_widgets), cost + new_cost,\n",
    "#                             path + direction, neighbor))\n",
    "\n",
    "\n",
    "# frontier = {}\n",
    "\n",
    "# while True:\n",
    "#     is_empty = True\n",
    "#     for widget in widgets:\n",
    "#         # print(widget.to_string(), '  size = ', widget.size())\n",
    "#         if not widget.size() == 0:\n",
    "#             is_empty = alse\n",
    "#             factory = widget.peek()\n",
    "#             if not factory in frontier:\n",
    "#                 frontier[factory] = 1\n",
    "#             else:\n",
    "#                 frontier[factory] += 1\n",
    "#     # print()\n",
    "#     if is_empty:\n",
    "#         break\n",
    "\n",
    "#     sorted_frontier = sorted(frontier.items(), key=operator.itemgetter(1), reverse = True)\n",
    "\n",
    "#     next_stop = sorted_frontier[0][0]\n",
    "#     total_path += next_stop\n",
    "    \n",
    "#     for widget in widgets:\n",
    "#         if not widget.size() == 0:\n",
    "#             if widget.peek() == next_stop:\n",
    "#                 widget.pop()\n",
    "\n",
    "# print(total_path)\n",
    "\n",
    "\n",
    "# def get_paths(widgets, total_path):\n",
    "#     frontier = Q()\n",
    "#     while True:\n",
    "#         is_empty = True\n",
    "#         for widget in widgets:\n",
    "#             if not widget.size() == 0:\n",
    "#                 is_empty = False\n",
    "#                 factory = widget.peek()\n",
    "#                 if not factory in frontier:\n",
    "#                     frontier.push(factory)\n",
    "#         if is_empty:\n",
    "#             return paths\n",
    "#         while frontier:\n",
    "#             next_stop = frontier.pop()\n",
    "#             path = total_path + next_stop\n",
    "            \n",
    "                    \n",
    "    \n",
    "    \n",
    "paths = []"
   ]
  }
 ],
 "metadata": {
  "kernelspec": {
   "display_name": "Python 3",
   "language": "python",
   "name": "python3"
  },
  "language_info": {
   "codemirror_mode": {
    "name": "ipython",
    "version": 3
   },
   "file_extension": ".py",
   "mimetype": "text/x-python",
   "name": "python",
   "nbconvert_exporter": "python",
   "pygments_lexer": "ipython3",
   "version": "3.6.3"
  }
 },
 "nbformat": 4,
 "nbformat_minor": 2
}
