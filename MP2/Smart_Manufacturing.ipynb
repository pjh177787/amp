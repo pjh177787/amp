{
 "cells": [
  {
   "cell_type": "markdown",
   "metadata": {},
   "source": [
    "# Part 1: Smart Manufacturing\n",
    "## 1.1 Planning Using A* Search"
   ]
  },
  {
   "cell_type": "code",
   "execution_count": 2,
   "metadata": {},
   "outputs": [],
   "source": [
    "from search_game import *\n",
    "\n",
    "def heuristic_step(f, widgets, cost):\n",
    "    count = 0\n",
    "    for widget in widgets:\n",
    "        depth = fmap.get_len(widget)\n",
    "        for i in range(depth):\n",
    "            factory = widget.pop()\n",
    "            if factory == f:\n",
    "                count += 1\n",
    "            widget.push(factory)\n",
    "    return cost + count\n",
    "        \n",
    "def heuristic_dist(f, widgets, cost):\n",
    "    frontier = fmap.get_frontier(widgets)\n",
    "    total = 0\n",
    "    count = 0\n",
    "    for factory in frontier:\n",
    "        if not factory == f:\n",
    "            total += fmap.get_dist(f, factory)\n",
    "            count += 1\n",
    "    adist = total/count\n",
    "        \n",
    "    max_depth = 0\n",
    "    for widget in widgets:\n",
    "        depth = fmap.get_len(widget)\n",
    "        if depth > max_depth:\n",
    "            max_depth = depth\n",
    "            \n",
    "    return cost + adist*max_depth\n",
    "        \n",
    "        \n",
    "\n",
    "fmap = Factory_Map()\n",
    "graph = fmap.get_graph()\n",
    "widget1 = fmap.get_widget1()\n",
    "widget2 = fmap.get_widget2()\n",
    "widget3 = fmap.get_widget3()\n",
    "widget4 = fmap.get_widget4()\n",
    "widget5 = fmap.get_widget5()\n",
    "\n",
    "total_path = ''\n",
    "widgets = [widget1, widget2, widget3, widget4, widget5]"
   ]
  },
  {
   "cell_type": "markdown",
   "metadata": {
    "collapsed": true
   },
   "source": [
    "## A*"
   ]
  },
  {
   "cell_type": "code",
   "execution_count": 4,
   "metadata": {},
   "outputs": [
    {
     "name": "stdout",
     "output_type": "stream",
     "text": [
      "Path:  Cost: 0\n",
      "Path:  Cost: 0\n",
      "Path: E Cost: 1\n",
      "Path: E Cost: 1\n",
      "Path: A Cost: 1\n",
      "Path: AB Cost: 2\n",
      "Path: AC Cost: 2\n"
     ]
    },
    {
     "ename": "IndexError",
     "evalue": "list index out of range",
     "output_type": "error",
     "traceback": [
      "\u001b[0;31m---------------------------------------------------------------------------\u001b[0m",
      "\u001b[0;31mIndexError\u001b[0m                                Traceback (most recent call last)",
      "\u001b[0;32m<ipython-input-4-718c299f388e>\u001b[0m in \u001b[0;36m<module>\u001b[0;34m()\u001b[0m\n\u001b[1;32m     13\u001b[0m             \u001b[0;32mif\u001b[0m \u001b[0mwidget\u001b[0m\u001b[0;34m.\u001b[0m\u001b[0mpeek\u001b[0m\u001b[0;34m(\u001b[0m\u001b[0;34m)\u001b[0m \u001b[0;34m==\u001b[0m \u001b[0mcurrent\u001b[0m\u001b[0;34m:\u001b[0m\u001b[0;34m\u001b[0m\u001b[0m\n\u001b[1;32m     14\u001b[0m                 \u001b[0mwidget\u001b[0m\u001b[0;34m.\u001b[0m\u001b[0mpop\u001b[0m\u001b[0;34m(\u001b[0m\u001b[0;34m)\u001b[0m\u001b[0;34m\u001b[0m\u001b[0m\n\u001b[0;32m---> 15\u001b[0;31m                 \u001b[0mnew_factory\u001b[0m \u001b[0;34m=\u001b[0m \u001b[0mwidget\u001b[0m\u001b[0;34m.\u001b[0m\u001b[0mpeek\u001b[0m\u001b[0;34m(\u001b[0m\u001b[0;34m)\u001b[0m\u001b[0;34m\u001b[0m\u001b[0m\n\u001b[0m\u001b[1;32m     16\u001b[0m                 \u001b[0mnew_cost\u001b[0m \u001b[0;34m=\u001b[0m \u001b[0;36m1\u001b[0m\u001b[0;34m\u001b[0m\u001b[0m\n\u001b[1;32m     17\u001b[0m                 \u001b[0;31m# new_cost = fmap.get_dist(current, new_factory)\u001b[0m\u001b[0;34m\u001b[0m\u001b[0;34m\u001b[0m\u001b[0m\n",
      "\u001b[0;32m~/Dropbox/Code/amp/MP2/search_game.py\u001b[0m in \u001b[0;36mpeek\u001b[0;34m(self, idx)\u001b[0m\n\u001b[1;32m     14\u001b[0m \u001b[0;34m\u001b[0m\u001b[0m\n\u001b[1;32m     15\u001b[0m     \u001b[0;32mdef\u001b[0m \u001b[0mpeek\u001b[0m\u001b[0;34m(\u001b[0m\u001b[0mself\u001b[0m\u001b[0;34m,\u001b[0m \u001b[0midx\u001b[0m \u001b[0;34m=\u001b[0m \u001b[0;36m0\u001b[0m\u001b[0;34m)\u001b[0m\u001b[0;34m:\u001b[0m\u001b[0;34m\u001b[0m\u001b[0m\n\u001b[0;32m---> 16\u001b[0;31m         \u001b[0;32mreturn\u001b[0m \u001b[0mself\u001b[0m\u001b[0;34m.\u001b[0m\u001b[0mq\u001b[0m\u001b[0;34m[\u001b[0m\u001b[0midx\u001b[0m\u001b[0;34m]\u001b[0m\u001b[0;34m\u001b[0m\u001b[0m\n\u001b[0m\u001b[1;32m     17\u001b[0m \u001b[0;34m\u001b[0m\u001b[0m\n\u001b[1;32m     18\u001b[0m     \u001b[0;32mdef\u001b[0m \u001b[0mpush\u001b[0m\u001b[0;34m(\u001b[0m\u001b[0mself\u001b[0m\u001b[0;34m,\u001b[0m \u001b[0melem\u001b[0m\u001b[0;34m)\u001b[0m\u001b[0;34m:\u001b[0m\u001b[0;34m\u001b[0m\u001b[0m\n",
      "\u001b[0;31mIndexError\u001b[0m: list index out of range"
     ]
    }
   ],
   "source": [
    "pr_queue = []\n",
    "frontier = fmap.get_frontier(widgets)\n",
    "for f in frontier.keys():\n",
    "    heappush(pr_queue, (heuristic_step(f, widgets, 0), 0, \"\", f))\n",
    "# visited = set()\n",
    "# graph = maze2graph(maze)\n",
    "# expanded = 0\n",
    "while pr_queue:\n",
    "    _, cost, path, current = heappop(pr_queue)\n",
    "#     new_widgets = widgets.deepcopy()\n",
    "    for widget in widgets:\n",
    "        if not widget.size() == 0:\n",
    "            if widget.peek() == current:\n",
    "                widget.pop()\n",
    "                new_factory = widget.peek()\n",
    "                new_cost = 1\n",
    "                # new_cost = fmap.get_dist(current, new_factory)\n",
    "                heappush(pr_queue, (heuristic_step(new_factory, widgets, cost), cost + new_cost, path + new_factory, new_factory))\n",
    "    print('Path:', path, 'Cost:', cost)\n",
    "#     for direction, neighbor in new_frontier.keys():\n",
    "#         new_cost = fmap.get_dist(current, neighbor)\n",
    "#         heappush(pr_queue, (cost + heuristic(f, new_frontier, new_widgets), cost + new_cost,\n",
    "#                             path + direction, neighbor))\n",
    "\n",
    "\n",
    "# frontier = {}\n",
    "\n",
    "# while True:\n",
    "#     is_empty = True\n",
    "#     for widget in widgets:\n",
    "#         # print(widget.to_string(), '  size = ', widget.size())\n",
    "#         if not widget.size() == 0:\n",
    "#             is_empty = alse\n",
    "#             factory = widget.peek()\n",
    "#             if not factory in frontier:\n",
    "#                 frontier[factory] = 1\n",
    "#             else:\n",
    "#                 frontier[factory] += 1\n",
    "#     # print()\n",
    "#     if is_empty:\n",
    "#         break\n",
    "\n",
    "#     sorted_frontier = sorted(frontier.items(), key=operator.itemgetter(1), reverse = True)\n",
    "\n",
    "#     next_stop = sorted_frontier[0][0]\n",
    "#     total_path += next_stop\n",
    "    \n",
    "#     for widget in widgets:\n",
    "#         if not widget.size() == 0:\n",
    "#             if widget.peek() == next_stop:\n",
    "#                 widget.pop()\n",
    "\n",
    "# print(total_path)\n"
   ]
  },
  {
   "cell_type": "code",
   "execution_count": 5,
   "metadata": {
    "collapsed": true
   },
   "outputs": [],
   "source": [
    "# def get_paths(widgets, total_path):\n",
    "#     frontier = Q()\n",
    "#     while True:\n",
    "#         is_empty = True\n",
    "#         for widget in widgets:\n",
    "#             if not widget.size() == 0:\n",
    "#                 is_empty = False\n",
    "#                 factory = widget.peek()\n",
    "#                 if not factory in frontier:\n",
    "#                     frontier.push(factory)\n",
    "#         if is_empty:\n",
    "#             return paths\n",
    "#         while frontier:\n",
    "#             next_stop = frontier.pop()\n",
    "#             path = total_path + next_stop\n",
    "            \n",
    "                    \n",
    "    \n",
    "    \n",
    "paths = []"
   ]
  },
  {
   "cell_type": "markdown",
   "metadata": {
    "collapsed": true
   },
   "source": [
    "## Brute Force\n"
   ]
  },
  {
   "cell_type": "code",
   "execution_count": null,
   "metadata": {
    "collapsed": true
   },
   "outputs": [],
   "source": []
  }
 ],
 "metadata": {
  "kernelspec": {
   "display_name": "Python 3",
   "language": "python",
   "name": "python3"
  },
  "language_info": {
   "codemirror_mode": {
    "name": "ipython",
    "version": 3
   },
   "file_extension": ".py",
   "mimetype": "text/x-python",
   "name": "python",
   "nbconvert_exporter": "python",
   "pygments_lexer": "ipython3",
   "version": "3.6.3"
  }
 },
 "nbformat": 4,
 "nbformat_minor": 2
}
